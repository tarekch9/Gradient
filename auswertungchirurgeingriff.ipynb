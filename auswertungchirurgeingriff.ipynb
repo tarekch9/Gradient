{
  "nbformat": 4,
  "nbformat_minor": 0,
  "metadata": {
    "colab": {
      "provenance": []
    },
    "kernelspec": {
      "name": "ir",
      "display_name": "R"
    },
    "language_info": {
      "name": "R"
    }
  },
  "cells": [
    {
      "cell_type": "markdown",
      "source": [
        "Zweck dieses Notebooks: Es wurden Versuche für zwei Operationsmethoden durchgeführt. Das Experiment wurde 13 mal wiederholt und die Versuchsmethoden sollen nun miteinander verglichen werden. Es soll untersucht werden, welche Operationsmethode näher an den Ursprungswert kommt.\n"
      ],
      "metadata": {
        "id": "fmxNiNQmwh8f"
      }
    },
    {
      "cell_type": "code",
      "execution_count": null,
      "metadata": {
        "colab": {
          "base_uri": "https://localhost:8080/",
          "height": 341
        },
        "id": "n8ddxDh0mSC6",
        "outputId": "04b94bdf-154b-4ace-de1a-2f2f20813a67"
      },
      "outputs": [
        {
          "output_type": "stream",
          "name": "stderr",
          "text": [
            "\u001b[1m\u001b[22mNew names:\n",
            "\u001b[36m•\u001b[39m `` -> `...1`\n",
            "\u001b[36m•\u001b[39m `` -> `...9`\n"
          ]
        },
        {
          "output_type": "display_data",
          "data": {
            "text/html": [
              "<table class=\"dataframe\">\n",
              "<caption>A tibble: 6 × 9</caption>\n",
              "<thead>\n",
              "\t<tr><th scope=col>...1</th><th scope=col>Mitteleres V- Systole (ml)</th><th scope=col>V-Stroke (ml)</th><th scope=col>V-Leak (ml)</th><th scope=col>Gradient (mmHg)</th><th scope=col>Gradient % von Nativ</th><th scope=col>Leak % von Nativ</th><th scope=col>Kontrolle</th><th scope=col>...9</th></tr>\n",
              "\t<tr><th scope=col>&lt;chr&gt;</th><th scope=col>&lt;dbl&gt;</th><th scope=col>&lt;dbl&gt;</th><th scope=col>&lt;dbl&gt;</th><th scope=col>&lt;dbl&gt;</th><th scope=col>&lt;dbl&gt;</th><th scope=col>&lt;dbl&gt;</th><th scope=col>&lt;dbl&gt;</th><th scope=col>&lt;chr&gt;</th></tr>\n",
              "</thead>\n",
              "<tbody>\n",
              "\t<tr><td>M01N02   </td><td>-19.82809</td><td> -8.431913</td><td>-11.39618</td><td>2.118782</td><td>1.0000000</td><td>1.000000</td><td>0</td><td>NA</td></tr>\n",
              "\t<tr><td>M01CR02  </td><td>-51.13753</td><td>  0.000000</td><td>-51.13753</td><td>2.241235</td><td>1.0577941</td><td>4.487252</td><td>0</td><td>NA</td></tr>\n",
              "\t<tr><td>M01M02C01</td><td>-25.41917</td><td>-10.272913</td><td>-15.14625</td><td>7.823207</td><td>3.6923133</td><td>1.329064</td><td>0</td><td>NA</td></tr>\n",
              "\t<tr><td>M01CL02  </td><td>-19.70211</td><td> -7.974607</td><td>-11.72750</td><td>3.597738</td><td>1.6980217</td><td>1.029073</td><td>0</td><td>NA</td></tr>\n",
              "\t<tr><td>M02N01   </td><td>-17.07347</td><td>-10.025333</td><td> -7.04814</td><td>2.641436</td><td>1.0000000</td><td>1.000000</td><td>0</td><td>NA</td></tr>\n",
              "\t<tr><td>M02CR    </td><td>-32.74327</td><td>-17.938140</td><td>-14.80513</td><td>2.616178</td><td>0.9904378</td><td>2.100572</td><td>0</td><td>NA</td></tr>\n",
              "</tbody>\n",
              "</table>\n"
            ],
            "text/markdown": "\nA tibble: 6 × 9\n\n| ...1 &lt;chr&gt; | Mitteleres V- Systole (ml) &lt;dbl&gt; | V-Stroke (ml) &lt;dbl&gt; | V-Leak (ml) &lt;dbl&gt; | Gradient (mmHg) &lt;dbl&gt; | Gradient % von Nativ &lt;dbl&gt; | Leak % von Nativ &lt;dbl&gt; | Kontrolle &lt;dbl&gt; | ...9 &lt;chr&gt; |\n|---|---|---|---|---|---|---|---|---|\n| M01N02    | -19.82809 |  -8.431913 | -11.39618 | 2.118782 | 1.0000000 | 1.000000 | 0 | NA |\n| M01CR02   | -51.13753 |   0.000000 | -51.13753 | 2.241235 | 1.0577941 | 4.487252 | 0 | NA |\n| M01M02C01 | -25.41917 | -10.272913 | -15.14625 | 7.823207 | 3.6923133 | 1.329064 | 0 | NA |\n| M01CL02   | -19.70211 |  -7.974607 | -11.72750 | 3.597738 | 1.6980217 | 1.029073 | 0 | NA |\n| M02N01    | -17.07347 | -10.025333 |  -7.04814 | 2.641436 | 1.0000000 | 1.000000 | 0 | NA |\n| M02CR     | -32.74327 | -17.938140 | -14.80513 | 2.616178 | 0.9904378 | 2.100572 | 0 | NA |\n\n",
            "text/latex": "A tibble: 6 × 9\n\\begin{tabular}{lllllllll}\n ...1 & Mitteleres V- Systole (ml) & V-Stroke (ml) & V-Leak (ml) & Gradient (mmHg) & Gradient \\% von Nativ & Leak \\% von Nativ & Kontrolle & ...9\\\\\n <chr> & <dbl> & <dbl> & <dbl> & <dbl> & <dbl> & <dbl> & <dbl> & <chr>\\\\\n\\hline\n\t M01N02    & -19.82809 &  -8.431913 & -11.39618 & 2.118782 & 1.0000000 & 1.000000 & 0 & NA\\\\\n\t M01CR02   & -51.13753 &   0.000000 & -51.13753 & 2.241235 & 1.0577941 & 4.487252 & 0 & NA\\\\\n\t M01M02C01 & -25.41917 & -10.272913 & -15.14625 & 7.823207 & 3.6923133 & 1.329064 & 0 & NA\\\\\n\t M01CL02   & -19.70211 &  -7.974607 & -11.72750 & 3.597738 & 1.6980217 & 1.029073 & 0 & NA\\\\\n\t M02N01    & -17.07347 & -10.025333 &  -7.04814 & 2.641436 & 1.0000000 & 1.000000 & 0 & NA\\\\\n\t M02CR     & -32.74327 & -17.938140 & -14.80513 & 2.616178 & 0.9904378 & 2.100572 & 0 & NA\\\\\n\\end{tabular}\n",
            "text/plain": [
              "  ...1      Mitteleres V- Systole (ml) V-Stroke (ml) V-Leak (ml)\n",
              "1 M01N02    -19.82809                   -8.431913    -11.39618  \n",
              "2 M01CR02   -51.13753                    0.000000    -51.13753  \n",
              "3 M01M02C01 -25.41917                  -10.272913    -15.14625  \n",
              "4 M01CL02   -19.70211                   -7.974607    -11.72750  \n",
              "5 M02N01    -17.07347                  -10.025333     -7.04814  \n",
              "6 M02CR     -32.74327                  -17.938140    -14.80513  \n",
              "  Gradient (mmHg) Gradient % von Nativ Leak % von Nativ Kontrolle ...9\n",
              "1 2.118782        1.0000000            1.000000         0         NA  \n",
              "2 2.241235        1.0577941            4.487252         0         NA  \n",
              "3 7.823207        3.6923133            1.329064         0         NA  \n",
              "4 3.597738        1.6980217            1.029073         0         NA  \n",
              "5 2.641436        1.0000000            1.000000         0         NA  \n",
              "6 2.616178        0.9904378            2.100572         0         NA  "
            ]
          },
          "metadata": {}
        }
      ],
      "source": [
        "## Import der Daten\n",
        "library(readxl)\n",
        "grad_data=read_excel('/content/Gessamtauwertung Gradient M01-M13.xlsx')\n",
        "head(grad_data)"
      ]
    },
    {
      "cell_type": "code",
      "source": [
        "## Entfernen der Werte 38 bis 42, da diese zuerst nicht für den Versuch verwendet werden sollen\n",
        "grad_data1 <- grad_data[-(38:42),]\n",
        "nrow(grad_data1) ## Alte Länge 53, neue Länge 53-5 = 48"
      ],
      "metadata": {
        "colab": {
          "base_uri": "https://localhost:8080/",
          "height": 34
        },
        "id": "8VgV1e8Im_EI",
        "outputId": "80b42b96-8a18-4cd8-898a-016a026b87b3"
      },
      "execution_count": null,
      "outputs": [
        {
          "output_type": "display_data",
          "data": {
            "text/html": [
              "48"
            ],
            "text/markdown": "48",
            "text/latex": "48",
            "text/plain": [
              "[1] 48"
            ]
          },
          "metadata": {}
        }
      ]
    },
    {
      "cell_type": "code",
      "source": [
        "## Nummerierung der Reihen von 1 bis 4 für weitere Zuweisung(RowNumber1)\n",
        "## Nummerierung erfolgt, um die Nummern 1 bis 4 den Versuchsstadien zuzuordnen\n",
        "grad_data1 <- cbind(RowNumber1 = 1:4, grad_data1)\n",
        "class(grad_data1)\n",
        "head(grad_data1,n=8)"
      ],
      "metadata": {
        "colab": {
          "base_uri": "https://localhost:8080/",
          "height": 366
        },
        "id": "8FkHWILrnHdn",
        "outputId": "376b3c8b-c865-4e6f-d667-010ec275f4e2"
      },
      "execution_count": null,
      "outputs": [
        {
          "output_type": "display_data",
          "data": {
            "text/html": [
              "'data.frame'"
            ],
            "text/markdown": "'data.frame'",
            "text/latex": "'data.frame'",
            "text/plain": [
              "[1] \"data.frame\""
            ]
          },
          "metadata": {}
        },
        {
          "output_type": "display_data",
          "data": {
            "text/html": [
              "<table class=\"dataframe\">\n",
              "<caption>A data.frame: 8 × 10</caption>\n",
              "<thead>\n",
              "\t<tr><th></th><th scope=col>RowNumber1</th><th scope=col>...1</th><th scope=col>Mitteleres V- Systole (ml)</th><th scope=col>V-Stroke (ml)</th><th scope=col>V-Leak (ml)</th><th scope=col>Gradient (mmHg)</th><th scope=col>Gradient % von Nativ</th><th scope=col>Leak % von Nativ</th><th scope=col>Kontrolle</th><th scope=col>...9</th></tr>\n",
              "\t<tr><th></th><th scope=col>&lt;int&gt;</th><th scope=col>&lt;chr&gt;</th><th scope=col>&lt;dbl&gt;</th><th scope=col>&lt;dbl&gt;</th><th scope=col>&lt;dbl&gt;</th><th scope=col>&lt;dbl&gt;</th><th scope=col>&lt;dbl&gt;</th><th scope=col>&lt;dbl&gt;</th><th scope=col>&lt;dbl&gt;</th><th scope=col>&lt;chr&gt;</th></tr>\n",
              "</thead>\n",
              "<tbody>\n",
              "\t<tr><th scope=row>1</th><td>1</td><td>M01N02   </td><td>-19.82809</td><td> -8.431913</td><td>-11.396180</td><td>2.118782</td><td>1.0000000</td><td>1.0000000</td><td>0</td><td>NA</td></tr>\n",
              "\t<tr><th scope=row>2</th><td>2</td><td>M01CR02  </td><td>-51.13753</td><td>  0.000000</td><td>-51.137527</td><td>2.241235</td><td>1.0577941</td><td>4.4872516</td><td>0</td><td>NA</td></tr>\n",
              "\t<tr><th scope=row>3</th><td>3</td><td>M01M02C01</td><td>-25.41917</td><td>-10.272913</td><td>-15.146253</td><td>7.823207</td><td>3.6923133</td><td>1.3290641</td><td>0</td><td>NA</td></tr>\n",
              "\t<tr><th scope=row>4</th><td>4</td><td>M01CL02  </td><td>-19.70211</td><td> -7.974607</td><td>-11.727500</td><td>3.597738</td><td>1.6980217</td><td>1.0290729</td><td>0</td><td>NA</td></tr>\n",
              "\t<tr><th scope=row>5</th><td>1</td><td>M02N01   </td><td>-17.07347</td><td>-10.025333</td><td> -7.048140</td><td>2.641436</td><td>1.0000000</td><td>1.0000000</td><td>0</td><td>NA</td></tr>\n",
              "\t<tr><th scope=row>6</th><td>2</td><td>M02CR    </td><td>-32.74327</td><td>-17.938140</td><td>-14.805127</td><td>2.616178</td><td>0.9904378</td><td>2.1005722</td><td>0</td><td>NA</td></tr>\n",
              "\t<tr><th scope=row>7</th><td>3</td><td>M02M01C01</td><td>-15.20537</td><td> -9.623220</td><td> -5.582147</td><td>7.187224</td><td>2.7209533</td><td>0.7920028</td><td>0</td><td>NA</td></tr>\n",
              "\t<tr><th scope=row>8</th><td>4</td><td>M02CL03  </td><td>-14.34857</td><td> -9.020013</td><td> -5.328553</td><td>4.474316</td><td>1.6938953</td><td>0.7560226</td><td>0</td><td>NA</td></tr>\n",
              "</tbody>\n",
              "</table>\n"
            ],
            "text/markdown": "\nA data.frame: 8 × 10\n\n| <!--/--> | RowNumber1 &lt;int&gt; | ...1 &lt;chr&gt; | Mitteleres V- Systole (ml) &lt;dbl&gt; | V-Stroke (ml) &lt;dbl&gt; | V-Leak (ml) &lt;dbl&gt; | Gradient (mmHg) &lt;dbl&gt; | Gradient % von Nativ &lt;dbl&gt; | Leak % von Nativ &lt;dbl&gt; | Kontrolle &lt;dbl&gt; | ...9 &lt;chr&gt; |\n|---|---|---|---|---|---|---|---|---|---|---|\n| 1 | 1 | M01N02    | -19.82809 |  -8.431913 | -11.396180 | 2.118782 | 1.0000000 | 1.0000000 | 0 | NA |\n| 2 | 2 | M01CR02   | -51.13753 |   0.000000 | -51.137527 | 2.241235 | 1.0577941 | 4.4872516 | 0 | NA |\n| 3 | 3 | M01M02C01 | -25.41917 | -10.272913 | -15.146253 | 7.823207 | 3.6923133 | 1.3290641 | 0 | NA |\n| 4 | 4 | M01CL02   | -19.70211 |  -7.974607 | -11.727500 | 3.597738 | 1.6980217 | 1.0290729 | 0 | NA |\n| 5 | 1 | M02N01    | -17.07347 | -10.025333 |  -7.048140 | 2.641436 | 1.0000000 | 1.0000000 | 0 | NA |\n| 6 | 2 | M02CR     | -32.74327 | -17.938140 | -14.805127 | 2.616178 | 0.9904378 | 2.1005722 | 0 | NA |\n| 7 | 3 | M02M01C01 | -15.20537 |  -9.623220 |  -5.582147 | 7.187224 | 2.7209533 | 0.7920028 | 0 | NA |\n| 8 | 4 | M02CL03   | -14.34857 |  -9.020013 |  -5.328553 | 4.474316 | 1.6938953 | 0.7560226 | 0 | NA |\n\n",
            "text/latex": "A data.frame: 8 × 10\n\\begin{tabular}{r|llllllllll}\n  & RowNumber1 & ...1 & Mitteleres V- Systole (ml) & V-Stroke (ml) & V-Leak (ml) & Gradient (mmHg) & Gradient \\% von Nativ & Leak \\% von Nativ & Kontrolle & ...9\\\\\n  & <int> & <chr> & <dbl> & <dbl> & <dbl> & <dbl> & <dbl> & <dbl> & <dbl> & <chr>\\\\\n\\hline\n\t1 & 1 & M01N02    & -19.82809 &  -8.431913 & -11.396180 & 2.118782 & 1.0000000 & 1.0000000 & 0 & NA\\\\\n\t2 & 2 & M01CR02   & -51.13753 &   0.000000 & -51.137527 & 2.241235 & 1.0577941 & 4.4872516 & 0 & NA\\\\\n\t3 & 3 & M01M02C01 & -25.41917 & -10.272913 & -15.146253 & 7.823207 & 3.6923133 & 1.3290641 & 0 & NA\\\\\n\t4 & 4 & M01CL02   & -19.70211 &  -7.974607 & -11.727500 & 3.597738 & 1.6980217 & 1.0290729 & 0 & NA\\\\\n\t5 & 1 & M02N01    & -17.07347 & -10.025333 &  -7.048140 & 2.641436 & 1.0000000 & 1.0000000 & 0 & NA\\\\\n\t6 & 2 & M02CR     & -32.74327 & -17.938140 & -14.805127 & 2.616178 & 0.9904378 & 2.1005722 & 0 & NA\\\\\n\t7 & 3 & M02M01C01 & -15.20537 &  -9.623220 &  -5.582147 & 7.187224 & 2.7209533 & 0.7920028 & 0 & NA\\\\\n\t8 & 4 & M02CL03   & -14.34857 &  -9.020013 &  -5.328553 & 4.474316 & 1.6938953 & 0.7560226 & 0 & NA\\\\\n\\end{tabular}\n",
            "text/plain": [
              "  RowNumber1 ...1      Mitteleres V- Systole (ml) V-Stroke (ml) V-Leak (ml)\n",
              "1 1          M01N02    -19.82809                   -8.431913    -11.396180 \n",
              "2 2          M01CR02   -51.13753                    0.000000    -51.137527 \n",
              "3 3          M01M02C01 -25.41917                  -10.272913    -15.146253 \n",
              "4 4          M01CL02   -19.70211                   -7.974607    -11.727500 \n",
              "5 1          M02N01    -17.07347                  -10.025333     -7.048140 \n",
              "6 2          M02CR     -32.74327                  -17.938140    -14.805127 \n",
              "7 3          M02M01C01 -15.20537                   -9.623220     -5.582147 \n",
              "8 4          M02CL03   -14.34857                   -9.020013     -5.328553 \n",
              "  Gradient (mmHg) Gradient % von Nativ Leak % von Nativ Kontrolle ...9\n",
              "1 2.118782        1.0000000            1.0000000        0         NA  \n",
              "2 2.241235        1.0577941            4.4872516        0         NA  \n",
              "3 7.823207        3.6923133            1.3290641        0         NA  \n",
              "4 3.597738        1.6980217            1.0290729        0         NA  \n",
              "5 2.641436        1.0000000            1.0000000        0         NA  \n",
              "6 2.616178        0.9904378            2.1005722        0         NA  \n",
              "7 7.187224        2.7209533            0.7920028        0         NA  \n",
              "8 4.474316        1.6938953            0.7560226        0         NA  "
            ]
          },
          "metadata": {}
        }
      ]
    },
    {
      "cell_type": "code",
      "source": [
        "## Auswahl der Spalten V-Leak (ml) und Gradient (mmHg), da diese Messwerte untersucht werden sollen\n",
        "ausgewählte_daten <- grad_data1[, c(\"RowNumber1\", \"V-Leak (ml)\", \"Gradient (mmHg)\")]\n",
        "head(ausgewählte_daten)"
      ],
      "metadata": {
        "colab": {
          "base_uri": "https://localhost:8080/",
          "height": 286
        },
        "id": "SA54RHLNnSe-",
        "outputId": "ae1e32d6-895e-4dfe-9098-935ede78b3f1"
      },
      "execution_count": null,
      "outputs": [
        {
          "output_type": "display_data",
          "data": {
            "text/html": [
              "<table class=\"dataframe\">\n",
              "<caption>A data.frame: 6 × 3</caption>\n",
              "<thead>\n",
              "\t<tr><th></th><th scope=col>RowNumber1</th><th scope=col>V-Leak (ml)</th><th scope=col>Gradient (mmHg)</th></tr>\n",
              "\t<tr><th></th><th scope=col>&lt;int&gt;</th><th scope=col>&lt;dbl&gt;</th><th scope=col>&lt;dbl&gt;</th></tr>\n",
              "</thead>\n",
              "<tbody>\n",
              "\t<tr><th scope=row>1</th><td>1</td><td>-11.39618</td><td>2.118782</td></tr>\n",
              "\t<tr><th scope=row>2</th><td>2</td><td>-51.13753</td><td>2.241235</td></tr>\n",
              "\t<tr><th scope=row>3</th><td>3</td><td>-15.14625</td><td>7.823207</td></tr>\n",
              "\t<tr><th scope=row>4</th><td>4</td><td>-11.72750</td><td>3.597738</td></tr>\n",
              "\t<tr><th scope=row>5</th><td>1</td><td> -7.04814</td><td>2.641436</td></tr>\n",
              "\t<tr><th scope=row>6</th><td>2</td><td>-14.80513</td><td>2.616178</td></tr>\n",
              "</tbody>\n",
              "</table>\n"
            ],
            "text/markdown": "\nA data.frame: 6 × 3\n\n| <!--/--> | RowNumber1 &lt;int&gt; | V-Leak (ml) &lt;dbl&gt; | Gradient (mmHg) &lt;dbl&gt; |\n|---|---|---|---|\n| 1 | 1 | -11.39618 | 2.118782 |\n| 2 | 2 | -51.13753 | 2.241235 |\n| 3 | 3 | -15.14625 | 7.823207 |\n| 4 | 4 | -11.72750 | 3.597738 |\n| 5 | 1 |  -7.04814 | 2.641436 |\n| 6 | 2 | -14.80513 | 2.616178 |\n\n",
            "text/latex": "A data.frame: 6 × 3\n\\begin{tabular}{r|lll}\n  & RowNumber1 & V-Leak (ml) & Gradient (mmHg)\\\\\n  & <int> & <dbl> & <dbl>\\\\\n\\hline\n\t1 & 1 & -11.39618 & 2.118782\\\\\n\t2 & 2 & -51.13753 & 2.241235\\\\\n\t3 & 3 & -15.14625 & 7.823207\\\\\n\t4 & 4 & -11.72750 & 3.597738\\\\\n\t5 & 1 &  -7.04814 & 2.641436\\\\\n\t6 & 2 & -14.80513 & 2.616178\\\\\n\\end{tabular}\n",
            "text/plain": [
              "  RowNumber1 V-Leak (ml) Gradient (mmHg)\n",
              "1 1          -11.39618   2.118782       \n",
              "2 2          -51.13753   2.241235       \n",
              "3 3          -15.14625   7.823207       \n",
              "4 4          -11.72750   3.597738       \n",
              "5 1           -7.04814   2.641436       \n",
              "6 2          -14.80513   2.616178       "
            ]
          },
          "metadata": {}
        }
      ]
    },
    {
      "cell_type": "code",
      "source": [
        "## Vorbereiten der Daten für die Clip-Methode für den Wert V-Leak"
      ],
      "metadata": {
        "id": "iLKcRNAlkIcf"
      },
      "execution_count": null,
      "outputs": []
    },
    {
      "cell_type": "code",
      "source": [
        "## Unterteilung der Versuchszustände in verschiedene Spalten\n",
        "# DataFrame V-Leak (ml)\n",
        "df <- data.frame(\n",
        "  column1 = numeric(0),\n",
        "  column2 = numeric(0),\n",
        "  column3 = numeric(0),\n",
        "  column4 = numeric(0)\n",
        ")\n",
        "\n",
        "num_rows <- nrow(ausgewählte_daten)\n",
        "\n",
        "for (i in 1:num_rows) {\n",
        "  # Access values in the two columns\n",
        "  value_col1 <- ausgewählte_daten[i, 1]\n",
        "  value_col2 <- ausgewählte_daten[i, 2]\n",
        "\n",
        "  # Create a data frame based on the condition\n",
        "  if (value_col1 == 1) {\n",
        "    new_row <- data.frame(column1 = value_col2, column2 = NA, column3 = NA, column4 = NA)\n",
        "  } else if (value_col1 == 2) {\n",
        "    new_row <- data.frame(column1 = NA, column2 = value_col2, column3 = NA, column4 = NA)\n",
        "  } else if (value_col1 == 3) {\n",
        "    new_row <- data.frame(column1 = NA, column2 = NA, column3 = value_col2, column4 = NA)\n",
        "  } else {\n",
        "    new_row <- data.frame(column1 = NA, column2 = NA, column3 = NA, column4 = value_col2)\n",
        "  }\n",
        "\n",
        "  # Append the new row to 'df'\n",
        "  df <- rbind(df, new_row)\n",
        "}\n",
        "\n",
        "# Print the updated DataFrame\n",
        "print(head(df))\n"
      ],
      "metadata": {
        "colab": {
          "base_uri": "https://localhost:8080/"
        },
        "id": "zqSJ7Pp_nYP4",
        "outputId": "f5ce3448-c048-47ee-877a-02a584ea7395"
      },
      "execution_count": null,
      "outputs": [
        {
          "output_type": "stream",
          "name": "stdout",
          "text": [
            "    column1   column2   column3  column4\n",
            "1 -11.39618        NA        NA       NA\n",
            "2        NA -51.13753        NA       NA\n",
            "3        NA        NA -15.14625       NA\n",
            "4        NA        NA        NA -11.7275\n",
            "5  -7.04814        NA        NA       NA\n",
            "6        NA -14.80513        NA       NA\n"
          ]
        }
      ]
    },
    {
      "cell_type": "code",
      "source": [
        "# Erstellen eines DataFrames mit 4 Spalten und 4 numerischen Zeilen und beseitigen von NA-Werten\n",
        "vleak <- data.frame(\n",
        "  native_valve_vl = na.omit(df$column1),\n",
        "  leaky_valve_vl = na.omit(df$column2),\n",
        "  clip_vl = na.omit(df$column3),\n",
        "  intervention_chirur_vl = na.omit(df$column4)\n",
        ")\n",
        "\n",
        "# Print the DataFrame\n",
        "print(vleak)\n"
      ],
      "metadata": {
        "colab": {
          "base_uri": "https://localhost:8080/"
        },
        "id": "lIc90yD-p3Np",
        "outputId": "5607056e-7446-41ab-f8d8-451bd53f22ed"
      },
      "execution_count": null,
      "outputs": [
        {
          "output_type": "stream",
          "name": "stdout",
          "text": [
            "   native_valve_vl leaky_valve_vl    clip_vl intervention_chirur_vl\n",
            "1       -11.396180      -51.13753 -15.146253             -11.727500\n",
            "2        -7.048140      -14.80513  -5.582147              -5.328553\n",
            "3        -6.120833      -18.97379  -5.805547             -12.599293\n",
            "4        -5.619920      -27.87994  -9.344707              -6.221127\n",
            "5        -7.229733      -62.29074 -17.303980             -15.572487\n",
            "6       -13.684780      -43.39353 -11.057160              -9.188033\n",
            "7        -6.734667      -17.76611  -6.501727              -7.568493\n",
            "8        -6.336880      -21.21609  -8.568447              -7.687147\n",
            "9        -6.547553      -17.66397  -5.544767              -6.321060\n",
            "10       -6.524020      -17.97289  -6.554200              -6.428467\n",
            "11       -5.505073      -17.53712  -9.929493              -5.902133\n",
            "12       -6.786120      -65.06426  -6.774460              -6.251367\n"
          ]
        }
      ]
    },
    {
      "cell_type": "code",
      "source": [
        "class(vleak)"
      ],
      "metadata": {
        "colab": {
          "base_uri": "https://localhost:8080/",
          "height": 34
        },
        "id": "2RHekXfL3DQY",
        "outputId": "80616cdc-ce59-4ea4-b419-0f10b7a411f5"
      },
      "execution_count": null,
      "outputs": [
        {
          "output_type": "display_data",
          "data": {
            "text/html": [
              "'data.frame'"
            ],
            "text/markdown": "'data.frame'",
            "text/latex": "'data.frame'",
            "text/plain": [
              "[1] \"data.frame\""
            ]
          },
          "metadata": {}
        }
      ]
    },
    {
      "cell_type": "code",
      "source": [
        "colSums(is.na(vleak))"
      ],
      "metadata": {
        "colab": {
          "base_uri": "https://localhost:8080/",
          "height": 34
        },
        "id": "4BnAznBc3asO",
        "outputId": "4cbbf604-35de-4ae4-aa77-037517e4a3db"
      },
      "execution_count": null,
      "outputs": [
        {
          "output_type": "display_data",
          "data": {
            "text/html": [
              "<style>\n",
              ".dl-inline {width: auto; margin:0; padding: 0}\n",
              ".dl-inline>dt, .dl-inline>dd {float: none; width: auto; display: inline-block}\n",
              ".dl-inline>dt::after {content: \":\\0020\"; padding-right: .5ex}\n",
              ".dl-inline>dt:not(:first-of-type) {padding-left: .5ex}\n",
              "</style><dl class=dl-inline><dt>native_valve_vl</dt><dd>0</dd><dt>leaky_valve_vl</dt><dd>0</dd><dt>clip_vl</dt><dd>0</dd><dt>intervention_chirur_vl</dt><dd>0</dd></dl>\n"
            ],
            "text/markdown": "native_valve_vl\n:   0leaky_valve_vl\n:   0clip_vl\n:   0intervention_chirur_vl\n:   0\n\n",
            "text/latex": "\\begin{description*}\n\\item[native\\textbackslash{}\\_valve\\textbackslash{}\\_vl] 0\n\\item[leaky\\textbackslash{}\\_valve\\textbackslash{}\\_vl] 0\n\\item[clip\\textbackslash{}\\_vl] 0\n\\item[intervention\\textbackslash{}\\_chirur\\textbackslash{}\\_vl] 0\n\\end{description*}\n",
            "text/plain": [
              "       native_valve_vl         leaky_valve_vl                clip_vl \n",
              "                     0                      0                      0 \n",
              "intervention_chirur_vl \n",
              "                     0 "
            ]
          },
          "metadata": {}
        }
      ]
    },
    {
      "cell_type": "code",
      "source": [
        "# statistische Merkmale der Versuchszustände\n",
        "summary(vleak)"
      ],
      "metadata": {
        "colab": {
          "base_uri": "https://localhost:8080/",
          "height": 145
        },
        "id": "r7KaBGLyPo5f",
        "outputId": "857a4530-ee9c-4ead-91fa-4e91458e110a"
      },
      "execution_count": null,
      "outputs": [
        {
          "output_type": "display_data",
          "data": {
            "text/plain": [
              " native_valve_vl   leaky_valve_vl      clip_vl        intervention_chirur_vl\n",
              " Min.   :-13.685   Min.   :-65.06   Min.   :-17.304   Min.   :-15.572       \n",
              " 1st Qu.: -7.094   1st Qu.:-45.33   1st Qu.:-10.211   1st Qu.: -9.823       \n",
              " Median : -6.641   Median :-20.09   Median : -7.671   Median : -6.998       \n",
              " Mean   : -7.461   Mean   :-31.31   Mean   : -9.009   Mean   : -8.400       \n",
              " 3rd Qu.: -6.283   3rd Qu.:-17.74   3rd Qu.: -6.328   3rd Qu.: -6.244       \n",
              " Max.   : -5.505   Max.   :-14.81   Max.   : -5.545   Max.   : -5.329       "
            ]
          },
          "metadata": {}
        }
      ]
    },
    {
      "cell_type": "code",
      "source": [
        "## Umwandeln der Dataframe Spalten in Arrays, damit mit Werten weiter gearbeitet werden kann"
      ],
      "metadata": {
        "id": "t_2TF8yskdiD"
      },
      "execution_count": null,
      "outputs": []
    },
    {
      "cell_type": "code",
      "source": [
        "native_valve_vl <- as.matrix(vleak['native_valve_vl'])\n",
        "leaky_valve_vl <- as.matrix(vleak['leaky_valve_vl'])\n",
        "clip_vl <- as.matrix(vleak['clip_vl'])\n",
        "intervention_chirur_vl <- as.matrix(vleak['intervention_chirur_vl'])"
      ],
      "metadata": {
        "id": "CUnYXjlt3ez6"
      },
      "execution_count": null,
      "outputs": []
    },
    {
      "cell_type": "code",
      "source": [
        "# Erstellen eines Boxplots\n",
        "# hilft dabei, die Verteilung der Quantile zu visualisieren und mögliche Ausreißer zu identifizieren"
      ],
      "metadata": {
        "id": "hOkfzsLgtMUH"
      },
      "execution_count": null,
      "outputs": []
    },
    {
      "cell_type": "code",
      "source": [
        "install.packages(\"lattice\")                                  # Install lattice package\n",
        "library(\"lattice\")                                           # Load lattice package"
      ],
      "metadata": {
        "colab": {
          "base_uri": "https://localhost:8080/"
        },
        "id": "VdwqFoEptLj8",
        "outputId": "aa6d59f5-0cf8-41e0-a371-85c35f986581"
      },
      "execution_count": null,
      "outputs": [
        {
          "output_type": "stream",
          "name": "stderr",
          "text": [
            "Installing package into ‘/usr/local/lib/R/site-library’\n",
            "(as ‘lib’ is unspecified)\n",
            "\n"
          ]
        }
      ]
    },
    {
      "cell_type": "code",
      "source": [
        "bwplot(native_valve_vl)                          # Applying bwplot function\n",
        "bwplot(leaky_valve_vl)                          # Applying bwplot function\n",
        "bwplot(clip_vl)                          # Applying bwplot function\n",
        "bwplot(intervention_chirur_vl)                          # Applying bwplot function"
      ],
      "metadata": {
        "colab": {
          "base_uri": "https://localhost:8080/",
          "height": 1000
        },
        "id": "JGjUOBxFtLWZ",
        "outputId": "923c9c13-e57f-4199-dccf-2dc2d7335b2a"
      },
      "execution_count": null,
      "outputs": [
        {
          "output_type": "display_data",
          "data": {
            "text/plain": [
              "plot without title"
            ],
            "image/png": "[encoded data removed]"
          },
          "metadata": {
            "image/png": {
              "width": 420,
              "height": 420
            }
          }
        },
        {
          "output_type": "display_data",
          "data": {
            "text/plain": [
              "plot without title"
            ],
            "image/png": "[encoded data removed]"
          },
          "metadata": {
            "image/png": {
              "width": 420,
              "height": 420
            }
          }
        },
        {
          "output_type": "display_data",
          "data": {
            "text/plain": [
              "plot without title"
            ],
            "image/png": "[encoded data removed]"
          },
          "metadata": {
            "image/png": {
              "width": 420,
              "height": 420
            }
          }
        },
        {
          "output_type": "display_data",
          "data": {
            "text/plain": [
              "plot without title"
            ],
            "image/png": "[encoded data removed]"
          },
          "metadata": {
            "image/png": {
              "width": 420,
              "height": 420
            }
          }
        }
      ]
    },
    {
      "cell_type": "code",
      "source": [
        "## Ein Boxplot (auch Box-and-Whisker-Plot genannt) ist ein grafisches Darstellungstool in der Statistik, das verwendet wird, um die Verteilung und die Streuung von Daten zu visualisieren.\n",
        "## Boxplots bieten eine schnelle und informative Möglichkeit, Schlüsselstatistiken über die Daten zu interpretieren.\n",
        "## Die Länge der Whisker und das Vorhandensein von Ausreißern geben Aufschluss über die Streuung und mögliche Ausreißer in den Daten. Lange Whisker oder viele Ausreißer können auf eine größere Streuung hinweisen"
      ],
      "metadata": {
        "id": "MxZjxfddcDMl"
      },
      "execution_count": null,
      "outputs": []
    },
    {
      "cell_type": "code",
      "source": [
        "# Histogramm für Native Klappe, Clip-Methode und chirurg. Eingriff der V-Leak Methode\n",
        "hist(native_valve_vl)\n",
        "hist(clip_vl)\n",
        "hist(intervention_chirur_vl)"
      ],
      "metadata": {
        "colab": {
          "base_uri": "https://localhost:8080/",
          "height": 1000
        },
        "id": "iJvkeLIweF_U",
        "outputId": "f04971cd-2446-41db-95ac-c4374fd491bd"
      },
      "execution_count": null,
      "outputs": [
        {
          "output_type": "display_data",
          "data": {
            "text/plain": [
              "Plot with title “Histogram of native_valve_vl”"
            ],
            "image/png": "[encoded data removed]"
          },
          "metadata": {
            "image/png": {
              "width": 420,
              "height": 420
            }
          }
        },
        {
          "output_type": "display_data",
          "data": {
            "text/plain": [
              "Plot with title “Histogram of clip_vl”"
            ],
            "image/png": "[encoded data removed]"
          },
          "metadata": {
            "image/png": {
              "width": 420,
              "height": 420
            }
          }
        },
        {
          "output_type": "display_data",
          "data": {
            "text/plain": [
              "Plot with title “Histogram of intervention_chirur_vl”"
            ],
            "image/png": "[encoded data removed]"
          },
          "metadata": {
            "image/png": {
              "width": 420,
              "height": 420
            }
          }
        }
      ]
    },
    {
      "cell_type": "code",
      "source": [
        "# Histogramme zeigen die Verteilung verschiedenen Versuchszustände an\n",
        "# Eine Prämisse für den T-Test ist eine Normalverteilung, also eie Konzentration um den Mittelwert, auch genannt Glockenkurve\n",
        "# Da keine richtige Normalverteilung bei allen drei Versuchsvorgängen vorhanden ist, wird dieses Kriterium nicht erfüllt"
      ],
      "metadata": {
        "id": "6rHsb2L7M-_f"
      },
      "execution_count": null,
      "outputs": []
    },
    {
      "cell_type": "code",
      "source": [
        "# Durchführung des T-Tests"
      ],
      "metadata": {
        "id": "3vNHQYEIOKxL"
      },
      "execution_count": null,
      "outputs": []
    },
    {
      "cell_type": "code",
      "source": [
        "# Um die Aussagekraft eines T-Tests messen zu können, kann die Effektgröße gemessen sowie die Poweranalyse durchgeführt werden. Diese sagt aus, wie Aussagekräftig die Daten für den T-Test sind\n",
        "# Die Effektstärke von Cohens D lässt sich hierbei folgendermaßen klassifizieren:\n",
        "## Kleine Effektstärke (d ≈ 0,2): Ein Cohen's d-Wert von etwa 0,2 wird oft als \"kleiner Effekt\" angesehen. Dies deutet darauf hin, dass der beobachtete Unterschied zwischen den Gruppen relativ gering ist.\n",
        "## Mittlere Effektstärke (d ≈ 0,5): Ein Wert von etwa 0,5 wird als \"mittlere Effektstärke\" betrachtet. Hierbei handelt es sich um einen moderaten Unterschied, der in vielen wissenschaftlichen Studien von Interesse ist.\n",
        "## Große Effektstärke (d ≈ 0,8 oder größer): Ein Cohen's d-Wert von etwa 0,8 oder größer wird als \"große Effektstärke\" angesehen. Dies weist auf einen signifikanten und starken Unterschied zwischen den Gruppen hin."
      ],
      "metadata": {
        "id": "j-fOkz5lOLnV"
      },
      "execution_count": null,
      "outputs": []
    },
    {
      "cell_type": "code",
      "source": [
        "# Cohen's d für den Vergleich native Klappe und Clip VL\n",
        "effect_size_NK_CVL <- abs((mean(native_valve_vl) - mean(clip_vl)) / sqrt(((sd(native_valve_vl)^2 + sd(clip_vl)^2) / 2)))\n",
        "effect_size_NK_CVL"
      ],
      "metadata": {
        "colab": {
          "base_uri": "https://localhost:8080/",
          "height": 34
        },
        "id": "-M8KglaTuc4F",
        "outputId": "643e6581-c8ef-40ce-80bd-3bac261013ee"
      },
      "execution_count": null,
      "outputs": [
        {
          "output_type": "display_data",
          "data": {
            "text/html": [
              "0.478267215120385"
            ],
            "text/markdown": "0.478267215120385",
            "text/latex": "0.478267215120385",
            "text/plain": [
              "[1] 0.4782672"
            ]
          },
          "metadata": {}
        }
      ]
    },
    {
      "cell_type": "code",
      "source": [
        "# Der Wert zeigt eine mittlere Effektstärke, was bedeutet, dass es sich um einen moderaten Unterschied handelt, der in vielen wissenschaftlichen Studien von Interesse ist"
      ],
      "metadata": {
        "id": "rtVOX6C9eAD0"
      },
      "execution_count": null,
      "outputs": []
    },
    {
      "cell_type": "code",
      "source": [
        "# als nächstes wird die Poweranalyse durchgeführt werden\n",
        "# Eine Poweranalyse, auch als Stichprobenplanung oder Teststärkeanalyse bezeichnet, ist ein statistisches Verfahren, das in der Forschung verwendet wird\n",
        "# um die Wahrscheinlichkeit zu bestimmen, mit der ein statistischer Test einen signifikanten Effekt nachweisen kann, falls dieser Effekt tatsächlich existiert.\n",
        "\n",
        "# Niedrige Teststärke (Power < 0,80): Eine Teststärke von weniger als 80% wird oft als niedrig angesehen. Dies bedeutet, dass der Test eine relativ geringe Wahrscheinlichkeit hat, einen tatsächlichen Effekt zu erkennen. In solchen Fällen besteht ein höheres Risiko, dass ein signifikanter Effekt übersehen wird.\n",
        "# Moderate Teststärke (Power ≈ 0,80): Eine Teststärke von etwa 80% gilt als moderat. Hier hat der Test eine anständige Wahrscheinlichkeit, einen tatsächlichen Effekt zu erkennen, aber es besteht immer noch eine gewisse Unsicherheit.\n",
        "# Hohe Teststärke (Power > 0,80): Eine Teststärke von über 80% wird oft als hoch angesehen. In solchen Fällen hat der Test eine gute Wahrscheinlichkeit, einen tatsächlichen Effekt zu identifizieren. Dies ist wünschenswert, da es das Risiko eines Fehlers des zweiten Typs (das Nichterkennen eines vorhandenen Effekts) verringert."
      ],
      "metadata": {
        "id": "cC2GTc1eehFG"
      },
      "execution_count": null,
      "outputs": []
    },
    {
      "cell_type": "code",
      "source": [
        "install.packages(\"pwr\")\n",
        "library(pwr)\n",
        "\n",
        "# Definieren Sie die Parameter für die Poweranalyse\n",
        "effektgroesse <- effect_size_NK_CVL # Beispielwert, ersetzen Sie ihn durch Ihre geschätzte Effektgröße\n",
        "signifikanzniveau <- 0.05\n",
        "stichprobengroesse <- length(native_valve_vl) # Beispielwert, ersetzen Sie ihn durch Ihre Stichprobengröße\n",
        "df <- stichprobengroesse - 1\n",
        "alternative <- \"two.sided\"\n",
        "\n",
        "# Berechnen Sie die Macht des T-Tests\n",
        "power <- pwr.t.test(d = effektgroesse, sig.level = signifikanzniveau, n = stichprobengroesse, alternative = alternative)$power\n",
        "\n",
        "# Zeigen Sie die berechnete Power an\n",
        "cat(\"Berechnete Power des T-Tests:\", power, \"\\n\")\n"
      ],
      "metadata": {
        "colab": {
          "base_uri": "https://localhost:8080/"
        },
        "id": "yhcfObpRucyO",
        "outputId": "4b87f65c-f11a-4203-a06a-f865f7b814a8"
      },
      "execution_count": null,
      "outputs": [
        {
          "output_type": "stream",
          "name": "stderr",
          "text": [
            "Installing package into ‘/usr/local/lib/R/site-library’\n",
            "(as ‘lib’ is unspecified)\n",
            "\n"
          ]
        },
        {
          "output_type": "stream",
          "name": "stdout",
          "text": [
            "Berechnete Power des T-Tests: 0.2017255 \n"
          ]
        }
      ]
    },
    {
      "cell_type": "code",
      "source": [
        "# Der Wert weist auf eine niedrige Teststärke hin, was bedeutet, das der Test eine relativ geringe Wahrscheinlichkeit hat, einen tatsächlichen Effekt zu erkennen\n",
        "# Trotz der niedrigen Teststärke soll der gepaarte T-Test durchgeführt werden. Hier soll untersucht werden, inwiefern sich die Werte native_vl und die Clip Methode unterscheiden"
      ],
      "metadata": {
        "id": "ZqT9r61-gL32"
      },
      "execution_count": null,
      "outputs": []
    },
    {
      "cell_type": "code",
      "source": [
        "# Gepaarter Zweistichprobentest\n",
        "ergebnis <- t.test(native_valve_vl, clip_vl, paired = TRUE)\n",
        "\n",
        "# Zusammenfassung der Testergebnisse\n",
        "print(ergebnis)"
      ],
      "metadata": {
        "colab": {
          "base_uri": "https://localhost:8080/"
        },
        "id": "droz2cLX9ZTI",
        "outputId": "f359c255-c6b1-4046-9259-614e335b123f"
      },
      "execution_count": null,
      "outputs": [
        {
          "output_type": "stream",
          "name": "stdout",
          "text": [
            "\n",
            "\tPaired t-test\n",
            "\n",
            "data:  native_valve_vl and clip_vl\n",
            "t = 1.5285, df = 11, p-value = 0.1546\n",
            "alternative hypothesis: true mean difference is not equal to 0\n",
            "95 percent confidence interval:\n",
            " -0.6811641  3.7776619\n",
            "sample estimates:\n",
            "mean difference \n",
            "       1.548249 \n",
            "\n"
          ]
        }
      ]
    },
    {
      "cell_type": "code",
      "source": [
        "# Die Ergebnisse des T-Tests lassen sich folgendermaßen Interpretieren\n",
        "# T-Wert: Der T-Wert ist eine Maßzahl für den Unterschied zwischen den gepaarten Werten, bereinigt um die Stichprobenvarianz.\n",
        "# Ein größerer T-Wert deutet auf einen größeren Unterschied hin.\n",
        "# p-Wert: Der p-Wert gibt an, wie wahrscheinlich es ist, einen so extremen oder extremeren T-Wert zu erhalten, wenn die Nullhypothese wahr ist.\n",
        "# Ein kleiner p-Wert (typischerweise kleiner als 0,05) deutet darauf hin, dass Sie die Nullhypothese ablehnen können, da es unwahrscheinlich ist, dass der beobachtete Unterschied zufällig ist.\n",
        "# Nullhypothese (H0): Die Nullhypothese besagt, dass es keinen signifikanten Unterschied zwischen den beiden Bedingungen oder Zeitpunkten gibt.\n",
        "# Mit anderen Worten, die mittleren Differenzen zwischen den gepaarten Werten sind null.\n",
        "# Alternativhypothese (H1): Die Alternativhypothese besagt, dass es einen signifikanten Unterschied zwischen den beiden Bedingungen oder Zeitpunkten gibt.\n",
        "# Dies ist die Hypothese, die Sie normalerweise bestätigen möchten."
      ],
      "metadata": {
        "id": "XK6nZFXLnfcO"
      },
      "execution_count": null,
      "outputs": []
    },
    {
      "cell_type": "code",
      "source": [],
      "metadata": {
        "id": "sT1JBr_69ZOI"
      },
      "execution_count": null,
      "outputs": []
    },
    {
      "cell_type": "code",
      "source": [
        "# Cohen's d für native Klappe und chirur. VL\n",
        "# Beispiel für Cohen's d-Berechnung\n",
        "effect_size <- abs((mean(native_valve_vl) - mean(intervention_chirur_vl)) / sqrt(((sd(native_valve_vl)^2 + sd(intervention_chirur_vl)^2) / 2)))\n",
        "effect_size"
      ],
      "metadata": {
        "colab": {
          "base_uri": "https://localhost:8080/",
          "height": 34
        },
        "id": "LehbqUOm9ZID",
        "outputId": "5348ea97-18c8-4408-f6c9-df25cc3b0230"
      },
      "execution_count": null,
      "outputs": [
        {
          "output_type": "display_data",
          "data": {
            "text/html": [
              "0.325721831208847"
            ],
            "text/markdown": "0.325721831208847",
            "text/latex": "0.325721831208847",
            "text/plain": [
              "[1] 0.3257218"
            ]
          },
          "metadata": {}
        }
      ]
    },
    {
      "cell_type": "code",
      "source": [
        "## auch hier keine große Aussagekraft"
      ],
      "metadata": {
        "id": "lkYOPrXWl0QT"
      },
      "execution_count": null,
      "outputs": []
    },
    {
      "cell_type": "code",
      "source": [
        "install.packages(\"pwr\")\n",
        "library(pwr)\n",
        "\n",
        "# Definieren Sie die Parameter für die Poweranalyse\n",
        "effektgroesse <- effect_size # Beispielwert, ersetzen Sie ihn durch Ihre geschätzte Effektgröße\n",
        "signifikanzniveau <- 0.05\n",
        "stichprobengroesse <- length(native_valve_vl) # Beispielwert, ersetzen Sie ihn durch Ihre Stichprobengröße\n",
        "df <- stichprobengroesse - 1\n",
        "alternative <- \"two.sided\"\n",
        "\n",
        "# Berechnen Sie die Macht des T-Tests\n",
        "power <- pwr.t.test(d = effektgroesse, sig.level = signifikanzniveau, n = stichprobengroesse, alternative = alternative)$power\n",
        "\n",
        "# Zeigen Sie die berechnete Power an\n",
        "cat(\"Berechnete Power des T-Tests:\", power, \"\\n\")\n"
      ],
      "metadata": {
        "colab": {
          "base_uri": "https://localhost:8080/"
        },
        "id": "pHOC9AejAeYe",
        "outputId": "ca61112b-1a00-40bb-cfcc-2f108e6772f6"
      },
      "execution_count": null,
      "outputs": [
        {
          "output_type": "stream",
          "name": "stderr",
          "text": [
            "Installing package into ‘/usr/local/lib/R/site-library’\n",
            "(as ‘lib’ is unspecified)\n",
            "\n"
          ]
        },
        {
          "output_type": "stream",
          "name": "stdout",
          "text": [
            "Berechnete Power des T-Tests: 0.118985 \n"
          ]
        }
      ]
    },
    {
      "cell_type": "code",
      "source": [
        "# Gepaarter Zweistichprobentest\n",
        "ergebnis <- t.test(native_valve_vl, intervention_chirur_vl, paired = TRUE)\n",
        "\n",
        "# Zusammenfassung der Testergebnisse\n",
        "print(ergebnis)"
      ],
      "metadata": {
        "colab": {
          "base_uri": "https://localhost:8080/"
        },
        "id": "7AIcZqvgl7Lu",
        "outputId": "6a39c6af-2149-4402-b66f-35139a65b250"
      },
      "execution_count": null,
      "outputs": [
        {
          "output_type": "stream",
          "name": "stdout",
          "text": [
            "\n",
            "\tPaired t-test\n",
            "\n",
            "data:  native_valve_vl and intervention_chirur_vl\n",
            "t = 0.95425, df = 11, p-value = 0.3605\n",
            "alternative hypothesis: true mean difference is not equal to 0\n",
            "95 percent confidence interval:\n",
            " -1.226143  3.103103\n",
            "sample estimates:\n",
            "mean difference \n",
            "        0.93848 \n",
            "\n"
          ]
        }
      ]
    },
    {
      "cell_type": "code",
      "source": [],
      "metadata": {
        "id": "TzV2-vHd7fDD"
      },
      "execution_count": null,
      "outputs": []
    },
    {
      "cell_type": "code",
      "source": [
        "## unabhängiger T-Test für die beiden Versuchsgruppen um zu untersuchen, wie groß der Unterschied zwischen den beiden Messwerten ist"
      ],
      "metadata": {
        "id": "R9iKXImvDEzj"
      },
      "execution_count": null,
      "outputs": []
    },
    {
      "cell_type": "code",
      "source": [
        "# Cohen's d für native Klappe und chirur. VL\n",
        "# Beispiel für Cohen's d-Berechnung\n",
        "effect_size <- abs((mean(clip_vl) - mean(intervention_chirur_vl)) / sqrt(((sd(clip_vl)^2 + sd(intervention_chirur_vl)^2) / 2)))\n",
        "effect_size"
      ],
      "metadata": {
        "colab": {
          "base_uri": "https://localhost:8080/",
          "height": 34
        },
        "id": "aeM1Pd9i7_c6",
        "outputId": "f69cb7ad-2fc5-42a8-d781-1669ee7ed9b6"
      },
      "execution_count": null,
      "outputs": [
        {
          "output_type": "display_data",
          "data": {
            "text/html": [
              "0.171427320911117"
            ],
            "text/markdown": "0.171427320911117",
            "text/latex": "0.171427320911117",
            "text/plain": [
              "[1] 0.1714273"
            ]
          },
          "metadata": {}
        }
      ]
    },
    {
      "cell_type": "code",
      "source": [
        "# Der Wert wird als \"kleiner Effekt\" angesehen. Dies deutet darauf hin, dass der beobachtete Unterschied zwischen den Gruppen relativ gering ist."
      ],
      "metadata": {
        "id": "4eo2D36Kf8TU"
      },
      "execution_count": null,
      "outputs": []
    },
    {
      "cell_type": "code",
      "source": [
        "install.packages(\"pwr\")\n",
        "library(pwr)\n",
        "\n",
        "# Definieren Sie die Parameter für die Poweranalyse\n",
        "effektgroesse <- effect_size # Beispielwert, ersetzen Sie ihn durch Ihre geschätzte Effektgröße\n",
        "signifikanzniveau <- 0.05\n",
        "stichprobengroesse <- length(native_valve_vl) # Beispielwert, ersetzen Sie ihn durch Ihre Stichprobengröße\n",
        "df <- stichprobengroesse - 1\n",
        "alternative <- \"two.sided\"\n",
        "\n",
        "# Berechnen Sie die Macht des T-Tests\n",
        "power <- pwr.t.test(d = effektgroesse, sig.level = signifikanzniveau, n = stichprobengroesse, alternative = alternative)$power\n",
        "\n",
        "# Zeigen Sie die berechnete Power an\n",
        "cat(\"Berechnete Power des T-Tests:\", power, \"\\n\")\n"
      ],
      "metadata": {
        "colab": {
          "base_uri": "https://localhost:8080/"
        },
        "id": "r5_ossKA8EJO",
        "outputId": "5189b657-e92f-4bd9-bd08-5b7b405b71db"
      },
      "execution_count": null,
      "outputs": [
        {
          "output_type": "stream",
          "name": "stderr",
          "text": [
            "Installing package into ‘/usr/local/lib/R/site-library’\n",
            "(as ‘lib’ is unspecified)\n",
            "\n"
          ]
        },
        {
          "output_type": "stream",
          "name": "stdout",
          "text": [
            "Berechnete Power des T-Tests: 0.0686993 \n"
          ]
        }
      ]
    },
    {
      "cell_type": "code",
      "source": [
        "# Der Wert weist auf eine niedrige Teststärke hin, was bedeutet, das der Test eine relativ geringe Wahrscheinlichkeit hat, einen tatsächlichen Effekt zu erkennen\n",
        "# Trotz der niedrigen Teststärke soll auch hier der gepaarte T-Test durchgeführt werden. Hier soll untersucht werden, inwiefern sich die Werte native_vl und die Clip Methode unterscheiden"
      ],
      "metadata": {
        "id": "Fac0QDL7gSuD"
      },
      "execution_count": null,
      "outputs": []
    },
    {
      "cell_type": "code",
      "source": [
        "result <- t.test(clip_vl, intervention_chirur_vl)\n",
        "result"
      ],
      "metadata": {
        "colab": {
          "base_uri": "https://localhost:8080/",
          "height": 218
        },
        "id": "ebZ4ndmXl67Z",
        "outputId": "4b1857cf-8584-45be-9aae-4adfe65a9c22"
      },
      "execution_count": null,
      "outputs": [
        {
          "output_type": "display_data",
          "data": {
            "text/plain": [
              "\n",
              "\tWelch Two Sample t-test\n",
              "\n",
              "data:  clip_vl and intervention_chirur_vl\n",
              "t = -0.41991, df = 21.367, p-value = 0.6787\n",
              "alternative hypothesis: true difference in means is not equal to 0\n",
              "95 percent confidence interval:\n",
              " -3.626513  2.406975\n",
              "sample estimates:\n",
              "mean of x mean of y \n",
              "-9.009407 -8.399638 \n"
            ]
          },
          "metadata": {}
        }
      ]
    },
    {
      "cell_type": "code",
      "source": [],
      "metadata": {
        "id": "6WwVUah17jA6"
      },
      "execution_count": null,
      "outputs": []
    },
    {
      "cell_type": "code",
      "source": [
        "# eine Möglichkeit, die Stichprobenzahl zu erhöhen und somit Möglicherweise genauere Testergebnisse zu erzielen, ist das sogenannte Bootstrap-Upsampling\n",
        "# Beim Bootstrap-Upsampling werden zufällige Stichproben aus den vorhandenen Datenpunkten gezogen und diese dann in den Datensatz aufgenommen. Dies kann nützlich sein, um die Stichprobengröße zu erhöhen und die Varianz der Schätzungen zu reduzieren."
      ],
      "metadata": {
        "id": "-n9S3a3zB6RS"
      },
      "execution_count": null,
      "outputs": []
    },
    {
      "cell_type": "code",
      "source": [
        "## Annahme: Ihre ursprüngliche Stichprobe ist im Vektor \"original_sample\".\n",
        "original_sample <- native_valve_vl\n",
        "\n",
        "# Anzahl der Bootstrapping-Wiederholungen\n",
        "num_replicates <- 100\n",
        "\n",
        "# Leere Vektoren zum Sammeln der Bootstrapping-Stichproben\n",
        "bootstrapped_samples <- list()\n",
        "\n",
        "# Bootstrapping durchführen\n",
        "for (i in 1:num_replicates) {\n",
        "  # Zufällige Stichprobe mit Zurücklegen erstellen\n",
        "  boot_sample <- sample(original_sample, replace = TRUE)\n",
        "\n",
        "  # Die Bootstrapping-Stichprobe zur Liste hinzufügen\n",
        "  bootstrapped_samples[[i]] <- boot_sample\n",
        "}\n",
        "\n",
        "# Zusammenführen der Bootstrapping-Stichproben, um die Stichprobengröße zu erhöhen\n",
        "native_valve_vl_extended <- c(original_sample, unlist(bootstrapped_samples))\n",
        "ergebnis <- paste(\"Neue Anzahl der Stichproben:\", length(native_valve_vl_extended))\n",
        "cat(ergebnis)"
      ],
      "metadata": {
        "colab": {
          "base_uri": "https://localhost:8080/"
        },
        "id": "SAELnRC8B6OC",
        "outputId": "bae826e3-8b6b-40f5-8037-7317e96f8cb0"
      },
      "execution_count": null,
      "outputs": [
        {
          "output_type": "stream",
          "name": "stdout",
          "text": [
            "Neue Anzahl der Stichproben: 1212"
          ]
        }
      ]
    },
    {
      "cell_type": "code",
      "source": [
        "# Vergleich der Verteilung der beiden Messreihen (Vor und nach dem Bootstrap-Upsampling)\n",
        "summary(native_valve_vl)"
      ],
      "metadata": {
        "colab": {
          "base_uri": "https://localhost:8080/",
          "height": 145
        },
        "id": "6NXKQ-eWeu6u",
        "outputId": "0e3fd56f-168f-4b45-8bed-85eb81b5e687"
      },
      "execution_count": null,
      "outputs": [
        {
          "output_type": "display_data",
          "data": {
            "text/plain": [
              " native_valve_vl  \n",
              " Min.   :-13.685  \n",
              " 1st Qu.: -7.094  \n",
              " Median : -6.641  \n",
              " Mean   : -7.461  \n",
              " 3rd Qu.: -6.283  \n",
              " Max.   : -5.505  "
            ]
          },
          "metadata": {}
        }
      ]
    },
    {
      "cell_type": "code",
      "source": [
        "summary(native_valve_vl_extended)"
      ],
      "metadata": {
        "colab": {
          "base_uri": "https://localhost:8080/",
          "height": 54
        },
        "id": "62hkitXfokRK",
        "outputId": "588d186f-c718-4739-82c9-ac1f6445bac6"
      },
      "execution_count": null,
      "outputs": [
        {
          "output_type": "display_data",
          "data": {
            "text/plain": [
              "   Min. 1st Qu.  Median    Mean 3rd Qu.    Max. \n",
              "-13.685  -7.230  -6.735  -7.458  -6.121  -5.505 "
            ]
          },
          "metadata": {}
        }
      ]
    },
    {
      "cell_type": "code",
      "source": [
        "bwplot(native_valve_vl)\n",
        "bwplot(native_valve_vl_extended)"
      ],
      "metadata": {
        "colab": {
          "base_uri": "https://localhost:8080/",
          "height": 857
        },
        "id": "lA9gf-7eAu16",
        "outputId": "94844982-81ce-4c00-84c7-4559e704340b"
      },
      "execution_count": null,
      "outputs": [
        {
          "output_type": "display_data",
          "data": {
            "text/plain": [
              "plot without title"
            ],
            "image/png": "[encoded data removed]"
          },
          "metadata": {
            "image/png": {
              "width": 420,
              "height": 420
            }
          }
        },
        {
          "output_type": "display_data",
          "data": {
            "text/plain": [
              "plot without title"
            ],
            "image/png": "[encoded data removed]"
          },
          "metadata": {
            "image/png": {
              "width": 420,
              "height": 420
            }
          }
        }
      ]
    },
    {
      "cell_type": "code",
      "source": [
        "# wie anhand der Quantils-Verteilungen sowie der Boxplots der beiden Messproben zu erkennen ist, sind die Verteilungen immernoch nahezu identisch, obwohl die Stichprobenanzahl um ein vielfaches erhöht wurde"
      ],
      "metadata": {
        "id": "2n-nbEKrBBPf"
      },
      "execution_count": null,
      "outputs": []
    },
    {
      "cell_type": "code",
      "source": [
        "# Annahme: Ihre ursprüngliche Stichprobe ist im Vektor \"original_sample\".\n",
        "original_sample <- clip_vl\n",
        "\n",
        "# Anzahl der Bootstrapping-Wiederholungen\n",
        "num_replicates <- 100\n",
        "\n",
        "# Leere Vektoren zum Sammeln der Bootstrapping-Stichproben\n",
        "bootstrapped_samples <- list()\n",
        "\n",
        "# Bootstrapping durchführen\n",
        "for (i in 1:num_replicates) {\n",
        "  # Zufällige Stichprobe mit Zurücklegen erstellen\n",
        "  boot_sample <- sample(original_sample, replace = TRUE)\n",
        "\n",
        "  # Die Bootstrapping-Stichprobe zur Liste hinzufügen\n",
        "  bootstrapped_samples[[i]] <- boot_sample\n",
        "}\n",
        "\n",
        "# Zusammenführen der Bootstrapping-Stichproben, um die Stichprobengröße zu erhöhen\n",
        "clip_vl_extended <- c(original_sample, unlist(bootstrapped_samples))\n",
        "length(clip_vl_extended)"
      ],
      "metadata": {
        "colab": {
          "base_uri": "https://localhost:8080/",
          "height": 34
        },
        "id": "MLAZdK1kAmjt",
        "outputId": "518ed1b4-9280-4055-a1e6-d39b6cf030ae"
      },
      "execution_count": null,
      "outputs": [
        {
          "output_type": "display_data",
          "data": {
            "text/html": [
              "1212"
            ],
            "text/markdown": "1212",
            "text/latex": "1212",
            "text/plain": [
              "[1] 1212"
            ]
          },
          "metadata": {}
        }
      ]
    },
    {
      "cell_type": "code",
      "source": [
        "summary(clip_vl)\n",
        "summary(clip_vl_extended)"
      ],
      "metadata": {
        "colab": {
          "base_uri": "https://localhost:8080/",
          "height": 181
        },
        "id": "Yc9JduA1gDV-",
        "outputId": "3c047099-918f-4465-f1ba-d01e54336500"
      },
      "execution_count": null,
      "outputs": [
        {
          "output_type": "display_data",
          "data": {
            "text/plain": [
              "    clip_vl       \n",
              " Min.   :-17.304  \n",
              " 1st Qu.:-10.211  \n",
              " Median : -7.671  \n",
              " Mean   : -9.009  \n",
              " 3rd Qu.: -6.328  \n",
              " Max.   : -5.545  "
            ]
          },
          "metadata": {}
        },
        {
          "output_type": "display_data",
          "data": {
            "text/plain": [
              "   Min. 1st Qu.  Median    Mean 3rd Qu.    Max. \n",
              "-17.304 -11.057  -8.568  -9.008  -5.806  -5.545 "
            ]
          },
          "metadata": {}
        }
      ]
    },
    {
      "cell_type": "code",
      "source": [
        "bwplot(clip_vl)\n",
        "bwplot(clip_vl_extended)"
      ],
      "metadata": {
        "colab": {
          "base_uri": "https://localhost:8080/",
          "height": 857
        },
        "id": "KqADeg9Mgs_h",
        "outputId": "2f8dc0ce-d1f6-4253-bc94-afdae4c6e4ce"
      },
      "execution_count": null,
      "outputs": [
        {
          "output_type": "display_data",
          "data": {
            "text/plain": [
              "plot without title"
            ],
            "image/png": "[encoded data removed]"
          },
          "metadata": {
            "image/png": {
              "width": 420,
              "height": 420
            }
          }
        },
        {
          "output_type": "display_data",
          "data": {
            "text/plain": [
              "plot without title"
            ],
            "image/png": "[encoded data removed]"
          },
          "metadata": {
            "image/png": {
              "width": 420,
              "height": 420
            }
          }
        }
      ]
    },
    {
      "cell_type": "code",
      "source": [
        "# Auch bei das Upsampling der Clip-Methode hat keinen Unterschied zeigt keinen großen Unterschied in der Verteilung der beiden Messreihen.\n",
        "# Dementsprechend werden neu aufgesetzte T-Tests mit den erweiterten Stichprobenanzahlen auch keine Unterschiede bringen"
      ],
      "metadata": {
        "id": "eMXos-50BugA"
      },
      "execution_count": null,
      "outputs": []
    },
    {
      "cell_type": "code",
      "source": [
        "# Beispiel für Cohen's d-Berechnung\n",
        "effect_size_clip_extended <- abs((mean(native_valve_vl_extended) - mean(clip_vl_extended)) / sqrt(((sd(native_valve_vl_extended)^2 + sd(clip_vl_extended)^2) / 2)))\n",
        "effect_size_clip_extended"
      ],
      "metadata": {
        "colab": {
          "base_uri": "https://localhost:8080/",
          "height": 34
        },
        "id": "LHpRw0VRAeNr",
        "outputId": "b7a19f33-ef97-4bc4-c5a3-9603f4c6ef3d"
      },
      "execution_count": null,
      "outputs": [
        {
          "output_type": "display_data",
          "data": {
            "text/html": [
              "0.543350528615918"
            ],
            "text/markdown": "0.543350528615918",
            "text/latex": "0.543350528615918",
            "text/plain": [
              "[1] 0.5433505"
            ]
          },
          "metadata": {}
        }
      ]
    },
    {
      "cell_type": "code",
      "source": [
        "## Ein Wert von etwa 0,5 wird als \"mittlere Effektstärke\" betrachtet. Hierbei handelt es sich um einen moderaten Unterschied, der in vielen wissenschaftlichen Studien von Interesse ist."
      ],
      "metadata": {
        "id": "K2_qSazHrwiz"
      },
      "execution_count": null,
      "outputs": []
    },
    {
      "cell_type": "code",
      "source": [
        "# Annahme: Ihre ursprüngliche Stichprobe ist im Vektor \"original_sample\".\n",
        "original_sample <- intervention_chirur_vl\n",
        "\n",
        "# Anzahl der Bootstrapping-Wiederholungen\n",
        "num_replicates <- 100\n",
        "\n",
        "# Leere Vektoren zum Sammeln der Bootstrapping-Stichproben\n",
        "bootstrapped_samples <- list()\n",
        "\n",
        "# Bootstrapping durchführen\n",
        "for (i in 1:num_replicates) {\n",
        "  # Zufällige Stichprobe mit Zurücklegen erstellen\n",
        "  boot_sample <- sample(original_sample, replace = TRUE)\n",
        "\n",
        "  # Die Bootstrapping-Stichprobe zur Liste hinzufügen\n",
        "  bootstrapped_samples[[i]] <- boot_sample\n",
        "}\n",
        "\n",
        "# Zusammenführen der Bootstrapping-Stichproben, um die Stichprobengröße zu erhöhen\n",
        "intervention_chirur_vl_extended <- c(original_sample, unlist(bootstrapped_samples))\n",
        "length(intervention_chirur_vl_extended)\n"
      ],
      "metadata": {
        "colab": {
          "base_uri": "https://localhost:8080/",
          "height": 34
        },
        "id": "SItrleVLsKEi",
        "outputId": "9f55e54b-aeef-4b6e-b1c0-6284b4f2f9ad"
      },
      "execution_count": null,
      "outputs": [
        {
          "output_type": "display_data",
          "data": {
            "text/html": [
              "1212"
            ],
            "text/markdown": "1212",
            "text/latex": "1212",
            "text/plain": [
              "[1] 1212"
            ]
          },
          "metadata": {}
        }
      ]
    },
    {
      "cell_type": "code",
      "source": [
        "summary(native_valve_vl_extended)\n",
        "summary(intervention_chirur_vl_extended)"
      ],
      "metadata": {
        "colab": {
          "base_uri": "https://localhost:8080/",
          "height": 90
        },
        "id": "tP6YXnENoR9Z",
        "outputId": "3b1e15e5-ac5e-4d17-860c-afc67b079168"
      },
      "execution_count": null,
      "outputs": [
        {
          "output_type": "display_data",
          "data": {
            "text/plain": [
              "   Min. 1st Qu.  Median    Mean 3rd Qu.    Max. \n",
              "-13.685  -7.230  -6.735  -7.458  -6.121  -5.505 "
            ]
          },
          "metadata": {}
        },
        {
          "output_type": "display_data",
          "data": {
            "text/plain": [
              "   Min. 1st Qu.  Median    Mean 3rd Qu.    Max. \n",
              "-15.572  -9.188  -6.428  -8.324  -6.221  -5.329 "
            ]
          },
          "metadata": {}
        }
      ]
    },
    {
      "cell_type": "code",
      "source": [
        "bwplot(native_valve_vl_extended)\n",
        "bwplot(intervention_chirur_vl_extended)"
      ],
      "metadata": {
        "colab": {
          "base_uri": "https://localhost:8080/",
          "height": 857
        },
        "id": "UTsQWttRC054",
        "outputId": "7362f52b-aa2d-43fa-d7bf-548b08223e9b"
      },
      "execution_count": null,
      "outputs": [
        {
          "output_type": "display_data",
          "data": {
            "text/plain": [
              "plot without title"
            ],
            "image/png": "[encoded data removed]"
          },
          "metadata": {
            "image/png": {
              "width": 420,
              "height": 420
            }
          }
        },
        {
          "output_type": "display_data",
          "data": {
            "text/plain": [
              "plot without title"
            ],
            "image/png": "[encoded data removed]"
          },
          "metadata": {
            "image/png": {
              "width": 420,
              "height": 420
            }
          }
        }
      ]
    },
    {
      "cell_type": "code",
      "source": [
        "# wie hier den Verteilungen zu entnehmen ist, unterscheiden sich die Verteilung etwas."
      ],
      "metadata": {
        "id": "C_wKC_LPDBsw"
      },
      "execution_count": null,
      "outputs": []
    },
    {
      "cell_type": "code",
      "source": [
        "# Beispiel für Cohen's d-Berechnung\n",
        "effect_size_chirur_extended <- abs((mean(native_valve_vl_extended) - mean(intervention_chirur_vl_extended)) / sqrt(((sd(native_valve_vl_extended)^2 + sd(intervention_chirur_vl_extended)^2) / 2)))\n",
        "effect_size_chirur_extended"
      ],
      "metadata": {
        "colab": {
          "base_uri": "https://localhost:8080/",
          "height": 34
        },
        "id": "7J1fYVPwnj5P",
        "outputId": "f54a7638-7065-4507-d685-7bceaca2438c"
      },
      "execution_count": null,
      "outputs": [
        {
          "output_type": "display_data",
          "data": {
            "text/html": [
              "0.34964739841222"
            ],
            "text/markdown": "0.34964739841222",
            "text/latex": "0.34964739841222",
            "text/plain": [
              "[1] 0.3496474"
            ]
          },
          "metadata": {}
        }
      ]
    },
    {
      "cell_type": "code",
      "source": [
        "# Der Wert für Cohen's d gibt wieder eine mittlere Effetkstärke an"
      ],
      "metadata": {
        "id": "FRroGqkYSngV"
      },
      "execution_count": null,
      "outputs": []
    },
    {
      "cell_type": "code",
      "source": [],
      "metadata": {
        "id": "mwSxgRQyDjjG"
      },
      "execution_count": null,
      "outputs": []
    },
    {
      "cell_type": "code",
      "source": [
        "# da Stichprobe laut Poweranalyse und Verteilungsfunktionen zu klein ist, kann in Erwägung gezogen werden, einen nicht parametrischer Test durchzuführen.\n",
        "# Diese sind statistische Tests, welche genaue Ergebnisse für kleinere Stichproben geben"
      ],
      "metadata": {
        "id": "SzCZzCYEomS-"
      },
      "execution_count": null,
      "outputs": []
    },
    {
      "cell_type": "code",
      "source": [
        "# Ein Beispiel ist hierfür der der Wilcoxon-Test, auch bekannt als der Wilcoxon-Vorzeichen-Rang-Test\n",
        "# dieser ist ein nichtparametrischer statistischer Test, der dazu verwendet wird, festzustellen, ob es einen signifikanten Unterschied zwischen zwei gepaarten oder abhängigen Stichproben gibt.\n",
        "# Er wird oft angewendet, wenn die Daten nicht den Annahmen der Normalverteilung entsprechen oder wenn die Daten ordinal oder auf einer Rangskala gemessen wurden."
      ],
      "metadata": {
        "id": "3kc_tMwpEDS5"
      },
      "execution_count": null,
      "outputs": []
    },
    {
      "cell_type": "code",
      "source": [
        "datadiffclip <- native_valve_vl - clip_vl\n",
        "datadiffclip\n",
        "datadiffvleak <- native_valve_vl - intervention_chirur_vl\n",
        "datadiffvleak"
      ],
      "metadata": {
        "colab": {
          "base_uri": "https://localhost:8080/",
          "height": 903
        },
        "id": "rihhGznSsKBC",
        "outputId": "b41ad442-e38b-40f8-cd0f-f846c6a048f3"
      },
      "execution_count": null,
      "outputs": [
        {
          "output_type": "display_data",
          "data": {
            "text/html": [
              "<table class=\"dataframe\">\n",
              "<caption>A matrix: 12 × 1 of type dbl</caption>\n",
              "<thead>\n",
              "\t<tr><th scope=col>native_valve_vl</th></tr>\n",
              "</thead>\n",
              "<tbody>\n",
              "\t<tr><td> 3.7500733</td></tr>\n",
              "\t<tr><td>-1.4659933</td></tr>\n",
              "\t<tr><td>-0.3152867</td></tr>\n",
              "\t<tr><td> 3.7247867</td></tr>\n",
              "\t<tr><td>10.0742467</td></tr>\n",
              "\t<tr><td>-2.6276200</td></tr>\n",
              "\t<tr><td>-0.2329400</td></tr>\n",
              "\t<tr><td> 2.2315667</td></tr>\n",
              "\t<tr><td>-1.0027867</td></tr>\n",
              "\t<tr><td> 0.0301800</td></tr>\n",
              "\t<tr><td> 4.4244200</td></tr>\n",
              "\t<tr><td>-0.0116600</td></tr>\n",
              "</tbody>\n",
              "</table>\n"
            ],
            "text/markdown": "\nA matrix: 12 × 1 of type dbl\n\n| native_valve_vl |\n|---|\n|  3.7500733 |\n| -1.4659933 |\n| -0.3152867 |\n|  3.7247867 |\n| 10.0742467 |\n| -2.6276200 |\n| -0.2329400 |\n|  2.2315667 |\n| -1.0027867 |\n|  0.0301800 |\n|  4.4244200 |\n| -0.0116600 |\n\n",
            "text/latex": "A matrix: 12 × 1 of type dbl\n\\begin{tabular}{l}\n native\\_valve\\_vl\\\\\n\\hline\n\t  3.7500733\\\\\n\t -1.4659933\\\\\n\t -0.3152867\\\\\n\t  3.7247867\\\\\n\t 10.0742467\\\\\n\t -2.6276200\\\\\n\t -0.2329400\\\\\n\t  2.2315667\\\\\n\t -1.0027867\\\\\n\t  0.0301800\\\\\n\t  4.4244200\\\\\n\t -0.0116600\\\\\n\\end{tabular}\n",
            "text/plain": [
              "      native_valve_vl\n",
              " [1,]  3.7500733     \n",
              " [2,] -1.4659933     \n",
              " [3,] -0.3152867     \n",
              " [4,]  3.7247867     \n",
              " [5,] 10.0742467     \n",
              " [6,] -2.6276200     \n",
              " [7,] -0.2329400     \n",
              " [8,]  2.2315667     \n",
              " [9,] -1.0027867     \n",
              "[10,]  0.0301800     \n",
              "[11,]  4.4244200     \n",
              "[12,] -0.0116600     "
            ]
          },
          "metadata": {}
        },
        {
          "output_type": "display_data",
          "data": {
            "text/html": [
              "<table class=\"dataframe\">\n",
              "<caption>A matrix: 12 × 1 of type dbl</caption>\n",
              "<thead>\n",
              "\t<tr><th scope=col>native_valve_vl</th></tr>\n",
              "</thead>\n",
              "<tbody>\n",
              "\t<tr><td> 0.33132000</td></tr>\n",
              "\t<tr><td>-1.71958667</td></tr>\n",
              "\t<tr><td> 6.47846000</td></tr>\n",
              "\t<tr><td> 0.60120667</td></tr>\n",
              "\t<tr><td> 8.34275333</td></tr>\n",
              "\t<tr><td>-4.49674667</td></tr>\n",
              "\t<tr><td> 0.83382667</td></tr>\n",
              "\t<tr><td> 1.35026667</td></tr>\n",
              "\t<tr><td>-0.22649333</td></tr>\n",
              "\t<tr><td>-0.09555333</td></tr>\n",
              "\t<tr><td> 0.39706000</td></tr>\n",
              "\t<tr><td>-0.53475333</td></tr>\n",
              "</tbody>\n",
              "</table>\n"
            ],
            "text/markdown": "\nA matrix: 12 × 1 of type dbl\n\n| native_valve_vl |\n|---|\n|  0.33132000 |\n| -1.71958667 |\n|  6.47846000 |\n|  0.60120667 |\n|  8.34275333 |\n| -4.49674667 |\n|  0.83382667 |\n|  1.35026667 |\n| -0.22649333 |\n| -0.09555333 |\n|  0.39706000 |\n| -0.53475333 |\n\n",
            "text/latex": "A matrix: 12 × 1 of type dbl\n\\begin{tabular}{l}\n native\\_valve\\_vl\\\\\n\\hline\n\t  0.33132000\\\\\n\t -1.71958667\\\\\n\t  6.47846000\\\\\n\t  0.60120667\\\\\n\t  8.34275333\\\\\n\t -4.49674667\\\\\n\t  0.83382667\\\\\n\t  1.35026667\\\\\n\t -0.22649333\\\\\n\t -0.09555333\\\\\n\t  0.39706000\\\\\n\t -0.53475333\\\\\n\\end{tabular}\n",
            "text/plain": [
              "      native_valve_vl\n",
              " [1,]  0.33132000    \n",
              " [2,] -1.71958667    \n",
              " [3,]  6.47846000    \n",
              " [4,]  0.60120667    \n",
              " [5,]  8.34275333    \n",
              " [6,] -4.49674667    \n",
              " [7,]  0.83382667    \n",
              " [8,]  1.35026667    \n",
              " [9,] -0.22649333    \n",
              "[10,] -0.09555333    \n",
              "[11,]  0.39706000    \n",
              "[12,] -0.53475333    "
            ]
          },
          "metadata": {}
        }
      ]
    },
    {
      "cell_type": "code",
      "source": [
        "resultclip <- wilcox.test(datadiffclip)\n",
        "resultvleak <- wilcox.test(datadiffvleak)"
      ],
      "metadata": {
        "id": "BbAQoCkcS2Dr"
      },
      "execution_count": null,
      "outputs": []
    },
    {
      "cell_type": "code",
      "source": [
        "resultclip"
      ],
      "metadata": {
        "colab": {
          "base_uri": "https://localhost:8080/",
          "height": 127
        },
        "id": "X-Cy-qH_S-Zu",
        "outputId": "5205a588-9af2-4545-84b7-3d0d5d6ec68b"
      },
      "execution_count": null,
      "outputs": [
        {
          "output_type": "display_data",
          "data": {
            "text/plain": [
              "\n",
              "\tWilcoxon signed rank exact test\n",
              "\n",
              "data:  datadiffclip\n",
              "V = 51, p-value = 0.3804\n",
              "alternative hypothesis: true location is not equal to 0\n"
            ]
          },
          "metadata": {}
        }
      ]
    },
    {
      "cell_type": "code",
      "source": [
        "resultvleak"
      ],
      "metadata": {
        "colab": {
          "base_uri": "https://localhost:8080/",
          "height": 127
        },
        "id": "Ggh1IXQ0rweR",
        "outputId": "a784ebd5-9814-44c5-ae97-1607fd1b9d80"
      },
      "execution_count": null,
      "outputs": [
        {
          "output_type": "display_data",
          "data": {
            "text/plain": [
              "\n",
              "\tWilcoxon signed rank exact test\n",
              "\n",
              "data:  datadiffvleak\n",
              "V = 51, p-value = 0.3804\n",
              "alternative hypothesis: true location is not equal to 0\n"
            ]
          },
          "metadata": {}
        }
      ]
    },
    {
      "cell_type": "code",
      "source": [],
      "metadata": {
        "id": "0c4znS-2Mo0c"
      },
      "execution_count": null,
      "outputs": []
    },
    {
      "cell_type": "code",
      "source": [
        "# DataFrame for Gradient (mmHg)\n",
        "df <- data.frame(\n",
        "  column1 = numeric(0),\n",
        "  column2 = numeric(0),\n",
        "  column3 = numeric(0),\n",
        "  column4 = numeric(0)\n",
        ")\n",
        "\n",
        "num_rows <- nrow(ausgewählte_daten)\n",
        "\n",
        "for (i in 1:num_rows) {\n",
        "  # Access values in the two columns\n",
        "  value_col1 <- ausgewählte_daten[i, 1]\n",
        "  value_col2 <- ausgewählte_daten[i, 3]\n",
        "\n",
        "  # Create a data frame based on the condition\n",
        "  if (value_col1 == 1) {\n",
        "    new_row <- data.frame(column1 = value_col2, column2 = NA, column3 = NA, column4 = NA)\n",
        "  } else if (value_col1 == 2) {\n",
        "    new_row <- data.frame(column1 = NA, column2 = value_col2, column3 = NA, column4 = NA)\n",
        "  } else if (value_col1 == 3) {\n",
        "    new_row <- data.frame(column1 = NA, column2 = NA, column3 = value_col2, column4 = NA)\n",
        "  } else {\n",
        "    new_row <- data.frame(column1 = NA, column2 = NA, column3 = NA, column4 = value_col2)\n",
        "  }\n",
        "\n",
        "  # Append the new row to 'df'\n",
        "  df <- rbind(df, new_row)\n",
        "}\n",
        "\n",
        "# Print the updated DataFrame\n",
        "print(head(df))\n"
      ],
      "metadata": {
        "id": "fg4L_emBuQ-i",
        "colab": {
          "base_uri": "https://localhost:8080/"
        },
        "outputId": "37f32799-33a7-488f-e749-af81c0a62ac9"
      },
      "execution_count": null,
      "outputs": [
        {
          "output_type": "stream",
          "name": "stdout",
          "text": [
            "   column1  column2  column3  column4\n",
            "1 2.118782       NA       NA       NA\n",
            "2       NA 2.241235       NA       NA\n",
            "3       NA       NA 7.823207       NA\n",
            "4       NA       NA       NA 3.597738\n",
            "5 2.641436       NA       NA       NA\n",
            "6       NA 2.616178       NA       NA\n"
          ]
        }
      ]
    },
    {
      "cell_type": "code",
      "source": [
        "# Create a DataFrame with 4 columns and 4 numeric rows\n",
        "gradient <- data.frame(\n",
        "  native_valve_grad = na.omit(df$column1),\n",
        "  leaky_valve_grad = na.omit(df$column2),\n",
        "  clip_grad = na.omit(df$column3),\n",
        "  intervention_chirur_grad = na.omit(df$column4)\n",
        ")\n",
        "\n",
        "# Print the DataFrame\n",
        "print(gradient)"
      ],
      "metadata": {
        "id": "ClBSWPXWu6J5",
        "colab": {
          "base_uri": "https://localhost:8080/"
        },
        "outputId": "0f537fb0-2492-441c-b580-d91c242694ca"
      },
      "execution_count": null,
      "outputs": [
        {
          "output_type": "stream",
          "name": "stdout",
          "text": [
            "   native_valve_grad leaky_valve_grad clip_grad intervention_chirur_grad\n",
            "1           2.118782         2.241235  7.823207                 3.597738\n",
            "2           2.641436         2.616178  7.187224                 4.474316\n",
            "3           2.434697         2.078448  6.631390                 3.310299\n",
            "4           3.438022         3.904133  5.678969                 4.595472\n",
            "5           3.405066         3.530597 13.418630                 3.400363\n",
            "6           3.478339         3.078427  4.491996                 4.002999\n",
            "7           7.251997         6.498990 13.169301                 8.076856\n",
            "8           7.337381         8.008675 19.079041                15.308238\n",
            "9           6.934949         6.219099 21.120807                10.054098\n",
            "10          9.031891        16.473377 19.214270                16.062186\n",
            "11          7.936568         7.439893 10.422675                 8.184428\n",
            "12          7.298628         6.448856 14.354621                 5.719966\n"
          ]
        }
      ]
    },
    {
      "cell_type": "code",
      "source": [
        "summary(gradient)"
      ],
      "metadata": {
        "colab": {
          "base_uri": "https://localhost:8080/",
          "height": 145
        },
        "id": "AyLO1xEWySjt",
        "outputId": "cd898bd9-3c81-4171-d2b3-c83875d77d76"
      },
      "execution_count": null,
      "outputs": [
        {
          "output_type": "display_data",
          "data": {
            "text/plain": [
              " native_valve_grad leaky_valve_grad   clip_grad      intervention_chirur_grad\n",
              " Min.   :2.119     Min.   : 2.078   Min.   : 4.492   Min.   : 3.310          \n",
              " 1st Qu.:3.214     1st Qu.: 2.963   1st Qu.: 7.048   1st Qu.: 3.902          \n",
              " Median :5.207     Median : 5.062   Median :11.796   Median : 5.158          \n",
              " Mean   :5.276     Mean   : 5.711   Mean   :11.883   Mean   : 7.232          \n",
              " 3rd Qu.:7.308     3rd Qu.: 6.734   3rd Qu.:15.536   3rd Qu.: 8.652          \n",
              " Max.   :9.032     Max.   :16.473   Max.   :21.121   Max.   :16.062          "
            ]
          },
          "metadata": {}
        }
      ]
    },
    {
      "cell_type": "code",
      "source": [
        "native_valve_vl_grad <- as.matrix(gradient['native_valve_grad'])\n",
        "leaky_valve_vl_grad <- as.matrix(gradient['leaky_valve_grad'])\n",
        "clip_vl_grad <- as.matrix(gradient['clip_grad'])\n",
        "intervention_chirur_vl_grad <- as.matrix(gradient['intervention_chirur_grad'])"
      ],
      "metadata": {
        "id": "XULX3mISwPrt"
      },
      "execution_count": null,
      "outputs": []
    },
    {
      "cell_type": "code",
      "source": [
        "bwplot(native_valve_vl_grad)                          # Applying bwplot function\n",
        "bwplot(leaky_valve_vl_grad)                          # Applying bwplot function\n",
        "bwplot(clip_vl_grad)                          # Applying bwplot function\n",
        "bwplot(intervention_chirur_vl_grad)                          # Applying bwplot function"
      ],
      "metadata": {
        "colab": {
          "base_uri": "https://localhost:8080/",
          "height": 1000
        },
        "id": "vJnwHSUZyZqW",
        "outputId": "06366f6e-3a86-44f6-fb52-05c569c2a78b"
      },
      "execution_count": null,
      "outputs": [
        {
          "output_type": "display_data",
          "data": {
            "text/plain": [
              "plot without title"
            ],
            "image/png": "[encoded data removed]"
          },
          "metadata": {
            "image/png": {
              "width": 420,
              "height": 420
            }
          }
        },
        {
          "output_type": "display_data",
          "data": {
            "text/plain": [
              "plot without title"
            ],
            "image/png": "[encoded data removed]"
          },
          "metadata": {
            "image/png": {
              "width": 420,
              "height": 420
            }
          }
        },
        {
          "output_type": "display_data",
          "data": {
            "text/plain": [
              "plot without title"
            ],
            "image/png": "[encoded data removed]"
          },
          "metadata": {
            "image/png": {
              "width": 420,
              "height": 420
            }
          }
        },
        {
          "output_type": "display_data",
          "data": {
            "text/plain": [
              "plot without title"
            ],
            "image/png": "[encoded data removed]"
          },
          "metadata": {
            "image/png": {
              "width": 420,
              "height": 420
            }
          }
        }
      ]
    },
    {
      "cell_type": "code",
      "source": [
        "# Histogramm für Native Klappe, Clip-Methode und chirurg. Eingriff der V-Leak Methode\n",
        "hist(native_valve_vl_grad)\n",
        "hist(clip_vl_grad)\n",
        "hist(intervention_chirur_vl_grad)"
      ],
      "metadata": {
        "colab": {
          "base_uri": "https://localhost:8080/",
          "height": 1000
        },
        "id": "N4ekkq_8zpCL",
        "outputId": "68a2c177-7848-4caf-df4e-83c893caef69"
      },
      "execution_count": null,
      "outputs": [
        {
          "output_type": "display_data",
          "data": {
            "text/plain": [
              "Plot with title “Histogram of native_valve_vl_grad”"
            ],
            "image/png": "[encoded data removed]"
          },
          "metadata": {
            "image/png": {
              "width": 420,
              "height": 420
            }
          }
        },
        {
          "output_type": "display_data",
          "data": {
            "text/plain": [
              "Plot with title “Histogram of clip_vl_grad”"
            ],
            "image/png": "[encoded data removed]"
          },
          "metadata": {
            "image/png": {
              "width": 420,
              "height": 420
            }
          }
        },
        {
          "output_type": "display_data",
          "data": {
            "text/plain": [
              "Plot with title “Histogram of intervention_chirur_vl_grad”"
            ],
            "image/png": "[encoded data removed]"
          },
          "metadata": {
            "image/png": {
              "width": 420,
              "height": 420
            }
          }
        }
      ]
    },
    {
      "cell_type": "code",
      "source": [
        "## Poweranalyse zum Überprüfen der Aussagestärke der Tests"
      ],
      "metadata": {
        "id": "iZBQFtyHmhvb"
      },
      "execution_count": null,
      "outputs": []
    },
    {
      "cell_type": "code",
      "source": [
        "# Beispiel für Cohen's d-Berechnung\n",
        "effect_size_clip <- abs((mean(native_valve_vl_grad) - mean(clip_vl_grad)) / sqrt(((sd(native_valve_vl_grad)^2 + sd(clip_vl_grad)^2) / 2)))\n",
        "effect_size_clip"
      ],
      "metadata": {
        "colab": {
          "base_uri": "https://localhost:8080/",
          "height": 34
        },
        "id": "fZDdY-fb5WQX",
        "outputId": "e3342ac5-6a22-4b20-f09d-2b25a1075d57"
      },
      "execution_count": null,
      "outputs": [
        {
          "output_type": "display_data",
          "data": {
            "text/html": [
              "1.48819771362149"
            ],
            "text/markdown": "1.48819771362149",
            "text/latex": "1.48819771362149",
            "text/plain": [
              "[1] 1.488198"
            ]
          },
          "metadata": {}
        }
      ]
    },
    {
      "cell_type": "code",
      "source": [
        "install.packages(\"pwr\")\n",
        "library(pwr)\n",
        "\n",
        "# Definieren Sie die Parameter für die Poweranalyse\n",
        "effektgroesse <- effect_size_clip # Beispielwert, ersetzen Sie ihn durch Ihre geschätzte Effektgröße\n",
        "signifikanzniveau <- 0.05\n",
        "stichprobengroesse <- length(native_valve_vl_grad) # Beispielwert, ersetzen Sie ihn durch Ihre Stichprobengröße\n",
        "df <- stichprobengroesse - 1\n",
        "alternative <- \"two.sided\"\n",
        "\n",
        "# Berechnen Sie die Macht des T-Tests\n",
        "power <- pwr.t.test(d = effektgroesse, sig.level = signifikanzniveau, n = stichprobengroesse, alternative = alternative)$power\n",
        "\n",
        "# Zeigen Sie die berechnete Power an\n",
        "cat(\"Berechnete Power des T-Tests:\", power, \"\\n\")\n"
      ],
      "metadata": {
        "colab": {
          "base_uri": "https://localhost:8080/"
        },
        "id": "bNdOZH405bTw",
        "outputId": "0657f34c-3d51-44a1-c550-a97140981f62"
      },
      "execution_count": null,
      "outputs": [
        {
          "output_type": "stream",
          "name": "stderr",
          "text": [
            "Installing package into ‘/usr/local/lib/R/site-library’\n",
            "(as ‘lib’ is unspecified)\n",
            "\n"
          ]
        },
        {
          "output_type": "stream",
          "name": "stdout",
          "text": [
            "Berechnete Power des T-Tests: 0.9360094 \n"
          ]
        }
      ]
    },
    {
      "cell_type": "code",
      "source": [
        "# Gepaarter Zweistichprobentest\n",
        "ergebnis <- t.test(native_valve_vl_grad, clip_vl_grad, paired = TRUE)\n",
        "\n",
        "# Zusammenfassung der Testergebnisse\n",
        "print(ergebnis)"
      ],
      "metadata": {
        "id": "CS-UDdkk_TEC",
        "colab": {
          "base_uri": "https://localhost:8080/"
        },
        "outputId": "d869f542-ffd6-42ab-ae4c-2a60e3e23d58"
      },
      "execution_count": null,
      "outputs": [
        {
          "output_type": "stream",
          "name": "stdout",
          "text": [
            "\n",
            "\tPaired t-test\n",
            "\n",
            "data:  native_valve_vl_grad and clip_vl_grad\n",
            "t = -5.55, df = 11, p-value = 0.0001728\n",
            "alternative hypothesis: true mean difference is not equal to 0\n",
            "95 percent confidence interval:\n",
            " -9.227229 -3.986833\n",
            "sample estimates:\n",
            "mean difference \n",
            "      -6.607031 \n",
            "\n"
          ]
        }
      ]
    },
    {
      "cell_type": "code",
      "source": [
        "# Beispiel für Cohen's d-Berechnung\n",
        "effect_size_grad <- abs((mean(native_valve_vl_grad) - mean(intervention_chirur_vl_grad)) / sqrt(((sd(native_valve_vl_grad)^2 + sd(intervention_chirur_vl_grad)^2) / 2)))\n",
        "effect_size_grad"
      ],
      "metadata": {
        "colab": {
          "base_uri": "https://localhost:8080/",
          "height": 34
        },
        "id": "eLm6qHc0sH_C",
        "outputId": "749c23c8-3a40-40b4-cad4-7dce7ea4e513"
      },
      "execution_count": null,
      "outputs": [
        {
          "output_type": "display_data",
          "data": {
            "text/html": [
              "0.534688209731265"
            ],
            "text/markdown": "0.534688209731265",
            "text/latex": "0.534688209731265",
            "text/plain": [
              "[1] 0.5346882"
            ]
          },
          "metadata": {}
        }
      ]
    },
    {
      "cell_type": "code",
      "source": [
        "install.packages(\"pwr\")\n",
        "library(pwr)\n",
        "\n",
        "# Definieren Sie die Parameter für die Poweranalyse\n",
        "effektgroesse <- effect_size_grad # Beispielwert, ersetzen Sie ihn durch Ihre geschätzte Effektgröße\n",
        "signifikanzniveau <- 0.05\n",
        "stichprobengroesse <- length(native_valve_vl_grad) # Beispielwert, ersetzen Sie ihn durch Ihre Stichprobengröße\n",
        "df <- stichprobengroesse - 1\n",
        "alternative <- \"two.sided\"\n",
        "\n",
        "# Berechnen Sie die Macht des T-Tests\n",
        "power <- pwr.t.test(d = effektgroesse, sig.level = signifikanzniveau, n = stichprobengroesse, alternative = alternative)$power\n",
        "\n",
        "# Zeigen Sie die berechnete Power an\n",
        "cat(\"Berechnete Power des T-Tests:\", power, \"\\n\")"
      ],
      "metadata": {
        "colab": {
          "base_uri": "https://localhost:8080/"
        },
        "id": "H8USAiOesD--",
        "outputId": "435ec481-700f-4787-faa6-53ede441364f"
      },
      "execution_count": null,
      "outputs": [
        {
          "output_type": "stream",
          "name": "stderr",
          "text": [
            "Installing package into ‘/usr/local/lib/R/site-library’\n",
            "(as ‘lib’ is unspecified)\n",
            "\n"
          ]
        },
        {
          "output_type": "stream",
          "name": "stdout",
          "text": [
            "Berechnete Power des T-Tests: 0.2404311 \n"
          ]
        }
      ]
    },
    {
      "cell_type": "code",
      "source": [
        "# Gepaarter Zweistichprobentest\n",
        "ergebnis <- t.test(native_valve_vl_grad, intervention_chirur_vl_grad, paired = TRUE)\n",
        "\n",
        "# Zusammenfassung der Testergebnisse\n",
        "print(ergebnis)"
      ],
      "metadata": {
        "id": "oJoqY5i4LqLv",
        "colab": {
          "base_uri": "https://localhost:8080/"
        },
        "outputId": "0a16da0f-2c5f-4234-f228-669080b7adbc"
      },
      "execution_count": null,
      "outputs": [
        {
          "output_type": "stream",
          "name": "stdout",
          "text": [
            "\n",
            "\tPaired t-test\n",
            "\n",
            "data:  native_valve_vl_grad and intervention_chirur_vl_grad\n",
            "t = -2.3975, df = 11, p-value = 0.03539\n",
            "alternative hypothesis: true mean difference is not equal to 0\n",
            "95 percent confidence interval:\n",
            " -3.7527953 -0.1604053\n",
            "sample estimates:\n",
            "mean difference \n",
            "        -1.9566 \n",
            "\n"
          ]
        }
      ]
    },
    {
      "cell_type": "code",
      "source": [],
      "metadata": {
        "id": "x8SWXJM40zHJ"
      },
      "execution_count": null,
      "outputs": []
    },
    {
      "cell_type": "code",
      "source": [
        "# Annahme: Ihre ursprüngliche Stichprobe ist im Vektor \"original_sample\".\n",
        "original_sample <- native_valve_vl_grad\n",
        "\n",
        "# Anzahl der Bootstrapping-Wiederholungen\n",
        "num_replicates <- 1000\n",
        "\n",
        "# Leere Vektoren zum Sammeln der Bootstrapping-Stichproben\n",
        "bootstrapped_samples <- list()\n",
        "\n",
        "# Bootstrapping durchführen\n",
        "for (i in 1:num_replicates) {\n",
        "  # Zufällige Stichprobe mit Zurücklegen erstellen\n",
        "  boot_sample <- sample(original_sample, replace = TRUE)\n",
        "\n",
        "  # Die Bootstrapping-Stichprobe zur Liste hinzufügen\n",
        "  bootstrapped_samples[[i]] <- boot_sample\n",
        "}\n",
        "\n",
        "# Zusammenführen der Bootstrapping-Stichproben, um die Stichprobengröße zu erhöhen\n",
        "extended_sample1 <- c(original_sample, unlist(bootstrapped_samples))\n",
        "length(extended_sample1)"
      ],
      "metadata": {
        "id": "14zZaucUOyxL",
        "colab": {
          "base_uri": "https://localhost:8080/",
          "height": 34
        },
        "outputId": "fe4b9c18-2488-4b1c-fefb-c1adc33e3ac9"
      },
      "execution_count": null,
      "outputs": [
        {
          "output_type": "display_data",
          "data": {
            "text/html": [
              "12012"
            ],
            "text/markdown": "12012",
            "text/latex": "12012",
            "text/plain": [
              "[1] 12012"
            ]
          },
          "metadata": {}
        }
      ]
    },
    {
      "cell_type": "code",
      "source": [
        "# Annahme: Ihre ursprüngliche Stichprobe ist im Vektor \"original_sample\".\n",
        "original_sample <- clip_vl_grad\n",
        "\n",
        "# Anzahl der Bootstrapping-Wiederholungen\n",
        "num_replicates <- 1000\n",
        "\n",
        "# Leere Vektoren zum Sammeln der Bootstrapping-Stichproben\n",
        "bootstrapped_samples <- list()\n",
        "\n",
        "# Bootstrapping durchführen\n",
        "for (i in 1:num_replicates) {\n",
        "  # Zufällige Stichprobe mit Zurücklegen erstellen\n",
        "  boot_sample <- sample(original_sample, replace = TRUE)\n",
        "\n",
        "  # Die Bootstrapping-Stichprobe zur Liste hinzufügen\n",
        "  bootstrapped_samples[[i]] <- boot_sample\n",
        "}\n",
        "\n",
        "# Zusammenführen der Bootstrapping-Stichproben, um die Stichprobengröße zu erhöhen\n",
        "extended_sample2 <- c(original_sample, unlist(bootstrapped_samples))\n",
        "length(extended_sample2)"
      ],
      "metadata": {
        "id": "3Bs1PMp3P4Ha",
        "colab": {
          "base_uri": "https://localhost:8080/",
          "height": 34
        },
        "outputId": "ee0b0aa8-bdc0-4709-edfb-9d73382e3bd5"
      },
      "execution_count": null,
      "outputs": [
        {
          "output_type": "display_data",
          "data": {
            "text/html": [
              "12012"
            ],
            "text/markdown": "12012",
            "text/latex": "12012",
            "text/plain": [
              "[1] 12012"
            ]
          },
          "metadata": {}
        }
      ]
    },
    {
      "cell_type": "code",
      "source": [],
      "metadata": {
        "id": "1ou3sm04P0zq"
      },
      "execution_count": null,
      "outputs": []
    },
    {
      "cell_type": "code",
      "source": [
        "# Beispiel für Cohen's d-Berechnung\n",
        "effect_size <- abs((mean(native_valve_vl_grad) - mean(clip_vl_grad)) / sqrt(((sd(native_valve_vl_grad)^2 + sd(clip_vl_grad)^2) / 2)))\n",
        "effect_size"
      ],
      "metadata": {
        "colab": {
          "base_uri": "https://localhost:8080/",
          "height": 34
        },
        "id": "vPHXUooSP0vw",
        "outputId": "99db0706-110d-43ba-f09b-c5fb3e4714c1"
      },
      "execution_count": null,
      "outputs": [
        {
          "output_type": "display_data",
          "data": {
            "text/html": [
              "1.48819771362149"
            ],
            "text/markdown": "1.48819771362149",
            "text/latex": "1.48819771362149",
            "text/plain": [
              "[1] 1.488198"
            ]
          },
          "metadata": {}
        }
      ]
    },
    {
      "cell_type": "code",
      "source": [
        "install.packages(\"pwr\")\n",
        "library(pwr)\n",
        "\n",
        "# Definieren Sie die Parameter für die Poweranalyse\n",
        "effektgroesse <- effect_size # Beispielwert, ersetzen Sie ihn durch Ihre geschätzte Effektgröße\n",
        "signifikanzniveau <- 0.05\n",
        "stichprobengroesse <- length(native_valve_vl_grad) # Beispielwert, ersetzen Sie ihn durch Ihre Stichprobengröße\n",
        "df <- stichprobengroesse - 1\n",
        "alternative <- \"two.sided\"\n",
        "\n",
        "# Berechnen Sie die Macht des T-Tests\n",
        "power <- pwr.t.test(d = effektgroesse, sig.level = signifikanzniveau, n = stichprobengroesse, alternative = alternative)$power\n",
        "\n",
        "# Zeigen Sie die berechnete Power an\n",
        "cat(\"Berechnete Power des T-Tests:\", power, \"\\n\")"
      ],
      "metadata": {
        "id": "Otkad0MBODKd",
        "colab": {
          "base_uri": "https://localhost:8080/"
        },
        "outputId": "b811e715-50fc-45e0-df40-d64d3c740e5f"
      },
      "execution_count": null,
      "outputs": [
        {
          "output_type": "stream",
          "name": "stderr",
          "text": [
            "Installing package into ‘/usr/local/lib/R/site-library’\n",
            "(as ‘lib’ is unspecified)\n",
            "\n"
          ]
        },
        {
          "output_type": "stream",
          "name": "stdout",
          "text": [
            "Berechnete Power des T-Tests: 0.9360094 \n"
          ]
        }
      ]
    },
    {
      "cell_type": "code",
      "source": [],
      "metadata": {
        "id": "xMgKEhv3OES4"
      },
      "execution_count": null,
      "outputs": []
    },
    {
      "cell_type": "code",
      "source": [
        "datadiffgradclip <- native_valve_vl_grad - clip_vl_grad\n",
        "datadiffgradclip\n",
        "datadiffgradvleak <- native_valve_vl_grad - intervention_chirur_vl_grad\n",
        "datadiffgradvleak"
      ],
      "metadata": {
        "colab": {
          "base_uri": "https://localhost:8080/",
          "height": 903
        },
        "id": "FFFJhBfkuyx2",
        "outputId": "d383a8d9-1280-4013-b678-89dc6a7b27b0"
      },
      "execution_count": null,
      "outputs": [
        {
          "output_type": "display_data",
          "data": {
            "text/html": [
              "<table class=\"dataframe\">\n",
              "<caption>A matrix: 12 × 1 of type dbl</caption>\n",
              "<thead>\n",
              "\t<tr><th scope=col>native_valve_grad</th></tr>\n",
              "</thead>\n",
              "<tbody>\n",
              "\t<tr><td> -5.704425</td></tr>\n",
              "\t<tr><td> -4.545788</td></tr>\n",
              "\t<tr><td> -4.196693</td></tr>\n",
              "\t<tr><td> -2.240947</td></tr>\n",
              "\t<tr><td>-10.013564</td></tr>\n",
              "\t<tr><td> -1.013657</td></tr>\n",
              "\t<tr><td> -5.917304</td></tr>\n",
              "\t<tr><td>-11.741660</td></tr>\n",
              "\t<tr><td>-14.185858</td></tr>\n",
              "\t<tr><td>-10.182378</td></tr>\n",
              "\t<tr><td> -2.486107</td></tr>\n",
              "\t<tr><td> -7.055993</td></tr>\n",
              "</tbody>\n",
              "</table>\n"
            ],
            "text/markdown": "\nA matrix: 12 × 1 of type dbl\n\n| native_valve_grad |\n|---|\n|  -5.704425 |\n|  -4.545788 |\n|  -4.196693 |\n|  -2.240947 |\n| -10.013564 |\n|  -1.013657 |\n|  -5.917304 |\n| -11.741660 |\n| -14.185858 |\n| -10.182378 |\n|  -2.486107 |\n|  -7.055993 |\n\n",
            "text/latex": "A matrix: 12 × 1 of type dbl\n\\begin{tabular}{l}\n native\\_valve\\_grad\\\\\n\\hline\n\t  -5.704425\\\\\n\t  -4.545788\\\\\n\t  -4.196693\\\\\n\t  -2.240947\\\\\n\t -10.013564\\\\\n\t  -1.013657\\\\\n\t  -5.917304\\\\\n\t -11.741660\\\\\n\t -14.185858\\\\\n\t -10.182378\\\\\n\t  -2.486107\\\\\n\t  -7.055993\\\\\n\\end{tabular}\n",
            "text/plain": [
              "      native_valve_grad\n",
              " [1,]  -5.704425       \n",
              " [2,]  -4.545788       \n",
              " [3,]  -4.196693       \n",
              " [4,]  -2.240947       \n",
              " [5,] -10.013564       \n",
              " [6,]  -1.013657       \n",
              " [7,]  -5.917304       \n",
              " [8,] -11.741660       \n",
              " [9,] -14.185858       \n",
              "[10,] -10.182378       \n",
              "[11,]  -2.486107       \n",
              "[12,]  -7.055993       "
            ]
          },
          "metadata": {}
        },
        {
          "output_type": "display_data",
          "data": {
            "text/html": [
              "<table class=\"dataframe\">\n",
              "<caption>A matrix: 12 × 1 of type dbl</caption>\n",
              "<thead>\n",
              "\t<tr><th scope=col>native_valve_grad</th></tr>\n",
              "</thead>\n",
              "<tbody>\n",
              "\t<tr><td>-1.478955842</td></tr>\n",
              "\t<tr><td>-1.832880032</td></tr>\n",
              "\t<tr><td>-0.875602146</td></tr>\n",
              "\t<tr><td>-1.157450419</td></tr>\n",
              "\t<tr><td> 0.004702771</td></tr>\n",
              "\t<tr><td>-0.524660139</td></tr>\n",
              "\t<tr><td>-0.824859484</td></tr>\n",
              "\t<tr><td>-7.970857056</td></tr>\n",
              "\t<tr><td>-3.119148585</td></tr>\n",
              "\t<tr><td>-7.030294923</td></tr>\n",
              "\t<tr><td>-0.247859870</td></tr>\n",
              "\t<tr><td> 1.578662144</td></tr>\n",
              "</tbody>\n",
              "</table>\n"
            ],
            "text/markdown": "\nA matrix: 12 × 1 of type dbl\n\n| native_valve_grad |\n|---|\n| -1.478955842 |\n| -1.832880032 |\n| -0.875602146 |\n| -1.157450419 |\n|  0.004702771 |\n| -0.524660139 |\n| -0.824859484 |\n| -7.970857056 |\n| -3.119148585 |\n| -7.030294923 |\n| -0.247859870 |\n|  1.578662144 |\n\n",
            "text/latex": "A matrix: 12 × 1 of type dbl\n\\begin{tabular}{l}\n native\\_valve\\_grad\\\\\n\\hline\n\t -1.478955842\\\\\n\t -1.832880032\\\\\n\t -0.875602146\\\\\n\t -1.157450419\\\\\n\t  0.004702771\\\\\n\t -0.524660139\\\\\n\t -0.824859484\\\\\n\t -7.970857056\\\\\n\t -3.119148585\\\\\n\t -7.030294923\\\\\n\t -0.247859870\\\\\n\t  1.578662144\\\\\n\\end{tabular}\n",
            "text/plain": [
              "      native_valve_grad\n",
              " [1,] -1.478955842     \n",
              " [2,] -1.832880032     \n",
              " [3,] -0.875602146     \n",
              " [4,] -1.157450419     \n",
              " [5,]  0.004702771     \n",
              " [6,] -0.524660139     \n",
              " [7,] -0.824859484     \n",
              " [8,] -7.970857056     \n",
              " [9,] -3.119148585     \n",
              "[10,] -7.030294923     \n",
              "[11,] -0.247859870     \n",
              "[12,]  1.578662144     "
            ]
          },
          "metadata": {}
        }
      ]
    },
    {
      "cell_type": "code",
      "source": [
        "resultclip <- wilcox.test(datadiffgradclip)\n",
        "resultvleak <- wilcox.test(datadiffgradvleak)"
      ],
      "metadata": {
        "id": "WmCnmsSLv_G1"
      },
      "execution_count": null,
      "outputs": []
    },
    {
      "cell_type": "code",
      "source": [
        "resultclip\n",
        "resultvleak"
      ],
      "metadata": {
        "colab": {
          "base_uri": "https://localhost:8080/",
          "height": 236
        },
        "id": "6OyCVMpEwECX",
        "outputId": "f23cc662-22c7-4320-f809-f08b9967db50"
      },
      "execution_count": null,
      "outputs": [
        {
          "output_type": "display_data",
          "data": {
            "text/plain": [
              "\n",
              "\tWilcoxon signed rank exact test\n",
              "\n",
              "data:  datadiffgradclip\n",
              "V = 0, p-value = 0.0004883\n",
              "alternative hypothesis: true location is not equal to 0\n"
            ]
          },
          "metadata": {}
        },
        {
          "output_type": "display_data",
          "data": {
            "text/plain": [
              "\n",
              "\tWilcoxon signed rank exact test\n",
              "\n",
              "data:  datadiffgradvleak\n",
              "V = 9, p-value = 0.01611\n",
              "alternative hypothesis: true location is not equal to 0\n"
            ]
          },
          "metadata": {}
        }
      ]
    }
  ]
}